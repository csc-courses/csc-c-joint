{
 "cells": [
  {
   "cell_type": "markdown",
   "id": "2de54ace",
   "metadata": {},
   "source": [
    "## Memory: Real and Virtual\n",
    "\n",
    "\n",
    "_burton rosenberg, 29 june 2023_\n",
    "\n",
    "\n",
    "### Table of contents.\n",
    "\n",
    "1. <a href=\"#intro\">Introduction</a>\n",
    "1. <a href=\"#byte\">What is a byte?</a>\n",
    "1. <a href=\"#intrepr\">Representations of Integers</a>\n",
    "1. <a href=\"#intmem\">The memory layout of integers</a>\n"
   ]
  }
 ],
 "metadata": {
  "kernelspec": {
   "display_name": "Python 3 (ipykernel)",
   "language": "python",
   "name": "python3"
  },
  "language_info": {
   "codemirror_mode": {
    "name": "ipython",
    "version": 3
   },
   "file_extension": ".py",
   "mimetype": "text/x-python",
   "name": "python",
   "nbconvert_exporter": "python",
   "pygments_lexer": "ipython3",
   "version": "3.9.7"
  }
 },
 "nbformat": 4,
 "nbformat_minor": 5
}
