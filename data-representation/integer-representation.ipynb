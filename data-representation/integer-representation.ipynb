{
 "cells": [
  {
   "cell_type": "markdown",
   "id": "5e4f7754",
   "metadata": {},
   "source": [
    "## Integer Representation\n",
    "\n",
    "_burton rosenberg, 24 june 2023_\n",
    "\n",
    "Among the basic operations built into a computer is the ability to add and subtract integers. \n",
    "\n",
    "Recall the simplified hardware model,\n",
    "\n",
    "<div style=\"float:right;margin:2em;width:450px;border:1px solid green;padding:1em;\">\n",
    "<a title=\"MCS-80/85 Family User's Manual, Intel, October 1979\" href=\"https://archive.org/details/Mcs80_85FamilyUsersManual/\">\n",
    "<img src=\"https://www.cs.miami.edu/home/burt/learning/csc421.241/images/databuses_8085.png\">\n",
    "<br>MCS-80/85 Family User's Manual, Intel, October 1979.\n",
    "</a>\n",
    "</div>\n",
    "\n",
    "The address is an postive integer and the data can one or multiple bytes. If multiple bytes, for example the 4 bytes for a 32-bit integer, we have explained that the address will be a multiple of 4, and the bytes will the 4 bytes at that address, one, two and three plus that address. Given an integer varible in C, `int i`, then address-of operator returns a slightly abstract item called a point-to-int, or int star, or `int *`, that can be used to find the integer `i` in memory.\n",
    "\n",
    "We coerced the pointer to a 64-bit integer, which can work, and then we have something the implements this simple model of RAM, of a byte array indexed by a positive integer.\n",
    "\n",
    "\n",
    "To perform an add, typically the two addends are brought from RAM memory to a CPU memory called a _register_. The number of registers on a CPU differ substantially by the processor family. The add is implemented by gating the values of two registers to an integer addition unit located in the Arithmetic Logical Unit (ALU). The result is captured in a third register. Then the register contents are written to RAM in the location of the output variable.\n",
    "\n",
    "We can later create an addition circuit out of logic gates, but first we will familiarize ourselves more with integers in C.\n",
    "\n",
    "### Integer specification\n",
    "\n",
    "When a number is written in a program, it is better thought of as a picture of a number than a number itself. Such things are these pictures of numbers are called _literals_, and the language specifies their syntax. For integers there are four types of literals which the compile turns in to an integer value and places into the compiled program,\n",
    "\n",
    "- Decimal representation. Which is the number as generally written\n",
    "- Octal representation. This is the integer written in base 8. When the integer starts with a leading 0, then the number is in octal representation.\n",
    "- Hexidecimal representation. This it the integer written in base 16. When a number begins with `0x` then it is in hexidecimal representation.\n",
    "- Binary representation. This it the integer written in base 2. When a number begins with `0b` then it is in hexidecimal representation.\n",
    "\n",
    "#### Hexidecimal representation\n",
    "\n",
    "Number written in hexidecimal are very useful and you should get familiar with the integer representation. \n",
    "\n",
    "Any integer can be represented in hexidecimal. It does not change the number's value or how it is stored in the RAM or registers. It is a way of making a picture of the number. Hexidecimal is a very good picture since we can visualize the exact bits in the binary representation of the number. \n",
    "\n",
    "Sometimes information is encoded in the individual bits of a number, and to think about this we need to think about the number in hexidecimal. We will use this representation shortly to think about negative integers.\n",
    "\n",
    "Hexidecimal expresses the number $n$ in hexdigits $h_0, h_1, \\dots, h_k$ such that,\n",
    "\n",
    "$$\n",
    "n = \\sum_i h_i 16^i\n",
    "$$\n",
    "\n",
    "The hexits $h_i$ are from the set \n",
    "\n",
    "$$\n",
    "\\{\\,0,1,2,3,4,5,6,7,8,9,a,b,c,d,e,f\\,\\}\n",
    "$$\n",
    "\n",
    "The program here will count to $n$ and display the number in both decimal and hexidecimal.\n"
   ]
  },
  {
   "cell_type": "code",
   "execution_count": 1,
   "id": "d349e511",
   "metadata": {},
   "outputs": [
    {
     "name": "stdout",
     "output_type": "stream",
     "text": [
      "decimal\tbinary\thexidecimal\n",
      "0\t0b0\t0x0\n",
      "1\t0b1\t0x1\n",
      "2\t0b10\t0x2\n",
      "3\t0b11\t0x3\n",
      "4\t0b100\t0x4\n",
      "5\t0b101\t0x5\n",
      "6\t0b110\t0x6\n",
      "7\t0b111\t0x7\n",
      "8\t0b1000\t0x8\n",
      "9\t0b1001\t0x9\n",
      "10\t0b1010\t0xa\n",
      "11\t0b1011\t0xb\n",
      "12\t0b1100\t0xc\n",
      "13\t0b1101\t0xd\n",
      "14\t0b1110\t0xe\n",
      "15\t0b1111\t0xf\n",
      "16\t0b10000\t0x10\n",
      "17\t0b10001\t0x11\n",
      "18\t0b10010\t0x12\n",
      "19\t0b10011\t0x13\n",
      "20\t0b10100\t0x14\n",
      "21\t0b10101\t0x15\n",
      "22\t0b10110\t0x16\n",
      "23\t0b10111\t0x17\n"
     ]
    }
   ],
   "source": [
    "def various_bases(n):\n",
    "    print(f'decimal\\tbinary\\thexidecimal')\n",
    "    for i in range(n):\n",
    "        print(f'{i}\\t{i:#b}\\t{i:#x}')\n",
    "        \n",
    "various_bases(24)"
   ]
  },
  {
   "cell_type": "markdown",
   "id": "feee4de0",
   "metadata": {},
   "source": [
    "\n",
    "###  <a name=intrepr>Representations of integers</a>\n",
    "\n",
    "\n",
    "The bit patterns can also be associated with positive integers by the formula,\n",
    "\n",
    "$$\n",
    "\\mathcal{N}(b_l, b_{l-1}, \\ldots, b_0) = \\sum_i 2^i b_i\n",
    "$$\n",
    "\n",
    "That is, write $n$ in binary, and make a sequence out of the bits in the representation.\n",
    "\n"
   ]
  },
  {
   "cell_type": "code",
   "execution_count": 2,
   "id": "8179abba",
   "metadata": {},
   "outputs": [
    {
     "name": "stdout",
     "output_type": "stream",
     "text": [
      "Writing string-to-int.c\n"
     ]
    }
   ],
   "source": [
    "%%file string-to-int.c\n",
    "\n",
    "#include<stdio.h>\n",
    "#include<string.h>\n",
    "\n",
    "int main(int argc, char * argv[]){\n",
    "    int i ;\n",
    "    int sum = 0 ;\n",
    "    int two_to_the_i = 1 ;\n",
    "    char * s = argv[1] ; \n",
    "    printf(\"%s\\t\", s) ;\n",
    "    \n",
    "    for (i=strlen(s);i>0;i--){\n",
    "        if (s[i-1]=='1') {\n",
    "            sum = sum + two_to_the_i ;\n",
    "        }\n",
    "        two_to_the_i = 2 * two_to_the_i ;\n",
    "    }\n",
    "    \n",
    "    printf(\"%d\\n\", sum) ;\n",
    "    return 0 ;\n",
    "}"
   ]
  },
  {
   "cell_type": "code",
   "execution_count": 3,
   "id": "82a69545",
   "metadata": {},
   "outputs": [],
   "source": [
    "#\n",
    "# a python program to ennumerate all the bit sequence on i bits\n",
    "# it uses recursion to create a list for i-1 bits, then adds one more \n",
    "# bit.\n",
    "#\n",
    "\n",
    "def ennumerate_zero_one_patterns(i):\n",
    "    \n",
    "    def ennumerate_zero_one_patterns_aux(i):\n",
    "        if i==1:\n",
    "            return ['0','1']\n",
    "        l = ennumerate_zero_one_patterns_aux(i-1)\n",
    "        r = l[:]\n",
    "        for i in range(len(l)):\n",
    "            r[i] = '1'+l[i]\n",
    "            l[i] = '0'+l[i]\n",
    "        return l+r\n",
    "    \n",
    "    assert i>0, 'input must be greater than one'\n",
    "    return ennumerate_zero_one_patterns_aux(i)\n",
    "    "
   ]
  },
  {
   "cell_type": "code",
   "execution_count": null,
   "id": "b4aa5e8c",
   "metadata": {},
   "outputs": [
    {
     "name": "stdout",
     "output_type": "stream",
     "text": [
      "000\t0\n",
      "001\t1\n",
      "010\t2\n",
      "011\t3\n",
      "100\t4\n",
      "101\t5\n",
      "110\t6\n"
     ]
    }
   ],
   "source": [
    "!cc -o string-to-int string-to-int.c\n",
    "int_representations = ennumerate_zero_one_patterns(3)\n",
    "for a_representation in int_representations:\n",
    "    !./string-to-int {a_representation}\n",
    "!rm string-to-int string-to-int.c"
   ]
  },
  {
   "cell_type": "code",
   "execution_count": null,
   "id": "56e84ab6",
   "metadata": {},
   "outputs": [],
   "source": [
    "%%file sizeof-wow.c\n",
    "\n",
    "#include<stdio.h>\n",
    "\n",
    "int main(int argc, char * argv[]) {\n",
    "    printf(\"type:\\tbytes\\n\") ;\n",
    "    printf(\"char:\\t%lu\\n\", sizeof(char)) ;\n",
    "    printf(\"short:\\t%lu\\n\", sizeof(short int)) ;\n",
    "    printf(\"int:\\t%lu\\n\",  sizeof(int)) ;\n",
    "    printf(\"long:\\t%lu\\n\",  sizeof(long int)) ;\n",
    "    return 0 ;\n",
    "}"
   ]
  },
  {
   "cell_type": "code",
   "execution_count": null,
   "id": "424230a0",
   "metadata": {},
   "outputs": [],
   "source": [
    "%%bash\n",
    "cc -o sizeof-wow sizeof-wow.c\n",
    "./sizeof-wow\n",
    "rm sizeof-wow sizeof-wow.c"
   ]
  },
  {
   "cell_type": "markdown",
   "id": "9ba2e2fd",
   "metadata": {},
   "source": [
    "### The int and long int datatypes\n",
    "\n",
    "\n",
    "\n",
    "We have shown that the computer can represent integers in binary, and have discussed so far only bytes. Since bytes have only 256 bit patterns, they can only store a small range of integers. So far we have shown how it can store the integers 0 through 255. There are two deficiencies,\n",
    "\n",
    "- We must be able to store much larger intergers\n",
    "- We must be able to represent both positive and negative integers.\n",
    "\n",
    "C Language has two data types for integers, _signed_ and _unsigned_. The type _unsigned char_ is one byte and the various bit patterns are used to represent the integers 0 through 255, using the obvious binary representation. \n",
    "\n",
    "We set aside for now the representation of negative numbers, and address that we would like a much larger range of positive numbers represented.\n",
    "\n",
    "To store larger numbers the computer will use more bytes, and will collect them so that they have consecutive adresses in the RAM. This way, the location of the integer remains a single address. The number of bytes is known because the reference has a type that includes the number of bytes. \n",
    "\n",
    "<div style=\"float:right;margin:2em;\">\n",
    "<img width=\"512\" src=\"https://www.cs.miami.edu/home/burt/learning/csc421.241/images/TCPL-1ed-bytesize.png\"></a>\n",
    "</div>\n",
    "\n",
    "It is a fact that C Language did not lay down the law about the number of bytes for each integer datatype, except that a char is one byte, and \"larger\" data types should have more bytes. However, 32 bits is the standard integer, with type names `int` and `unsigned int`. The image is from TCPL first edition, where they give the number of bits in the various integer and byte types of computers of that time.\n",
    "\n",
    "There were then two variants of `int`, the `short int` and the `long int`. The actual number of bytes is not defined in the C Language, except that a short int cannot be longer than an int, and a long int cannot be shorter than an int. Let's say for normality that a short is 16 bits and a long is 64 bits. Beware though, this will depend on the computer and the compiler.\n",
    "\n",
    "The builtin operator `sizeof` gives the number of bytes of the object mentioned as its argument. The argument can be a data type or a variable. Although `sizeof` looks like a function call, it is not. If it were a function call, we would have to wait until the prgram ran before the value of `sizeof` is known. It is already known at compile time.\n"
   ]
  },
  {
   "cell_type": "code",
   "execution_count": null,
   "id": "34a85ecf",
   "metadata": {},
   "outputs": [],
   "source": [
    "%%file sizeof-wow.c\n",
    "\n",
    "#include<stdio.h>\n",
    "\n",
    "int main(int argc, char * argv[]) {\n",
    "    printf(\"type:\\tbytes\\n\") ;\n",
    "    printf(\"char:\\t%lu\\n\", sizeof(char)) ;\n",
    "    printf(\"short:\\t%lu\\n\", sizeof(short int)) ;\n",
    "    printf(\"int:\\t%lu\\n\",  sizeof(int)) ;\n",
    "    printf(\"long:\\t%lu\\n\",  sizeof(long int)) ;\n",
    "    return 0 ;\n",
    "}"
   ]
  },
  {
   "cell_type": "code",
   "execution_count": null,
   "id": "d0271984",
   "metadata": {},
   "outputs": [],
   "source": [
    "%%bash\n",
    "cc -o sizeof-wow sizeof-wow.c\n",
    "./sizeof-wow\n",
    "rm sizeof-wow sizeof-wow.c"
   ]
  },
  {
   "cell_type": "markdown",
   "id": "a742f518",
   "metadata": {},
   "source": [
    "## Negative Integers\n",
    "\n",
    "From the representation of numbers as some zero-one pattern in mulitple bytes, we now have a direct understanding of integers and their addition by the ALU. Now we look at negative numbers.\n",
    "\n",
    "The essence of a negative number, for this discussion, is its arithmetic properties. Given an $x$, the negative $y$ has the defining propert of $x+y=0$. For a literal picture of $x$, the literal picture of $y$ is created by adding the minus sign in the front.\n",
    "\n",
    "This is called __sign-magnitude__ notation of a negative number. We do not really do any calculation, we just post a symbol at the front of the number for use later. \n",
    "\n",
    "We will use the __modular arithmetic__ nature of computer integers to calculate negative numbers, and hence do subtraction, while reusing the addition unit. We will subtract using addition.\n",
    "\n",
    "Note the following arithmetic sequence,\n",
    "\n",
    "$$\n",
    "9, 18, 27, 36, 45, 54, 63, 72, 81, 90\n",
    "$$\n",
    "\n",
    "Just looking at the one's digit, we have the falling sequence from 9 to 0. If we ignore the ten's digit, we have achieved subtraction by one by adding by 9. Looked at this modulo ten, this makes perfect sense, as,\n",
    "\n",
    "$$\n",
    "9 = 10 - 1 = -1 \\pmod{10}\n",
    "$$\n",
    "\n",
    "We will do the name with our integers and the ALU addition unit noting that for a 32-bit integer, the addition is modulo $2^{32}$,\n",
    "\n",
    "$$\n",
    "-1 = 2^{32}-1  \\pmod{2^{32}}\n",
    "$$\n",
    "\n",
    "Using hexidecimal notation we can proof this easily. In hex, $2^{32}=$ 0x100000000. You have to count those zeros carefully. There are 8 of them, each represent 4 bits, for 32 bits of zeros and a 1 in front. We can do this subraction mentally, $2^{32}-1=$ 0xffffffff. Think of adding a one to that string if f's, and like a domino reaction they all carry a one leaving a zero until in the 33-ird place the carry becomes a one.\n",
    "\n",
    "We proof this out with an experiment."
   ]
  },
  {
   "cell_type": "code",
   "execution_count": null,
   "id": "900c7971",
   "metadata": {},
   "outputs": [],
   "source": [
    "%%file count-down.c\n",
    "\n",
    "#include<stdio.h>\n",
    "#include<stdlib.h>\n",
    "#include<assert.h>\n",
    "\n",
    "int main(int argc, char * argv[]) {\n",
    "    int minus_one = 0xffffffff ;\n",
    "    int i = 5 ;\n",
    "    \n",
    "    assert(sizeof(int)==4) ; // else the minus_one is not correct\n",
    "    \n",
    "    while (i!=0) {\n",
    "        printf(\"%d \", i) ;\n",
    "        i = i + minus_one ;\n",
    "    }\n",
    "    printf(\"%d\\n\", i) ;\n",
    "    return 0 ;\n",
    "}"
   ]
  },
  {
   "cell_type": "code",
   "execution_count": null,
   "id": "47de47cb",
   "metadata": {},
   "outputs": [],
   "source": [
    "%%bash\n",
    "S=count-down\n",
    "cc -o $S $S.c\n",
    "./$S 27\n",
    "rm $S $S.c"
   ]
  },
  {
   "cell_type": "markdown",
   "id": "5c13fd59",
   "metadata": {},
   "source": [
    "### Two's Complement\n",
    "\n",
    "Given the success of that experiment, we wish to calculate explicitely the negative number $-x$.\n",
    "\n",
    "We had noted that the ALU could do addition. We tell you that it can also carry out other operations, such as bitwise logical operations. We shall use the bit complemenation unit in the ALU along with the addition unit in the ALU to calculate negative numbers and to subtract.\n",
    "\n",
    "##### C Language bit operations\n",
    "\n",
    "C Language has bit operations, such as `~` and `|`. These operators treat the byte or bytes as a collection of bits and applies the operation to the bits, place by place. The `~` is bit complemetation, the bits are flipped, zero to one or one two zero. The `|` is the or operator taking two integers (etc) and giving an integer value defined as, the result is 1 in a bit position when the inputs are 1 in that bit position, either one or both of the inputs. There are also a and and exclusive-or binary operator that you will find in the exercises.\n",
    "\n",
    "What we are interested in right now is that `x | (~x)` will equal `0xffffffff`.\n",
    "\n",
    "Note that in this case `x + (~x)` will equal `x | (~x)`.\n",
    "\n",
    "Here is an example for a single hexidecimal hexit.\n"
   ]
  },
  {
   "cell_type": "code",
   "execution_count": null,
   "id": "44e598f6",
   "metadata": {},
   "outputs": [],
   "source": [
    "%%file flip-out.c\n",
    "\n",
    "#include<stdio.h>\n",
    "\n",
    "int main(int argc, char * argv[]) {\n",
    "    int i, j, k ;\n",
    "    for (i=0;i<0x10;i++) {\n",
    "        j = 0xf&(~i) ;\n",
    "        k = 0xf&( i | j ) ;\n",
    "        printf(\"0x%x | 0x%x  = 0x%x\\n\", i, j, k) ;\n",
    "    }\n",
    "    return 0 ;\n",
    "}"
   ]
  },
  {
   "cell_type": "code",
   "execution_count": null,
   "id": "321ec1f0",
   "metadata": {},
   "outputs": [],
   "source": [
    "%%bash\n",
    "S=flip-out\n",
    "cc -o $S $S.c\n",
    "./$S 27\n",
    "rm $S $S.c"
   ]
  },
  {
   "cell_type": "markdown",
   "id": "80477d36",
   "metadata": {},
   "source": [
    "Hence, \n",
    "\n",
    "`0 == 0xffffffff + 1 == ( x | (~x) ) + 1  == ( x + ~x ) + 1 == x + ( ~x + 1 )`\n",
    "\n",
    "Therefore negative x equals one more than the bitwise complement of x. This is how we make negative numbers, as well as this is how we will do subtraction. The ALU only needs to do bitwise complement and addition, and it can use those to do subtraction.\n"
   ]
  },
  {
   "cell_type": "code",
   "execution_count": null,
   "id": "543db765",
   "metadata": {},
   "outputs": [],
   "source": [
    "%%file two-complement.c\n",
    "\n",
    "#include<stdio.h>\n",
    "#include<stdlib.h>\n",
    "\n",
    "int main(int argc, char * argv[]) {\n",
    "    unsigned int n = atoi(argv[1]) ;\n",
    "    unsigned int nn ;\n",
    "    \n",
    "    nn = 1 + ~n ; // twos complement homemade negatives\n",
    "    \n",
    "    printf(\"%u:\\t%u\\t%d\\n\", n, nn, nn) ;\n",
    "    \n",
    "    return 0 ;\n",
    "}"
   ]
  },
  {
   "cell_type": "code",
   "execution_count": null,
   "id": "022b4692",
   "metadata": {},
   "outputs": [],
   "source": [
    "%%bash\n",
    "S=two-complement\n",
    "cc -o $S $S.c\n",
    "./$S 10\n",
    "./$S 0\n",
    "./$S -45\n",
    "rm $S $S.c"
   ]
  },
  {
   "cell_type": "code",
   "execution_count": null,
   "id": "9b02721c",
   "metadata": {},
   "outputs": [],
   "source": []
  }
 ],
 "metadata": {
  "kernelspec": {
   "display_name": "Python 3 (ipykernel)",
   "language": "python",
   "name": "python3"
  },
  "language_info": {
   "codemirror_mode": {
    "name": "ipython",
    "version": 3
   },
   "file_extension": ".py",
   "mimetype": "text/x-python",
   "name": "python",
   "nbconvert_exporter": "python",
   "pygments_lexer": "ipython3",
   "version": "3.9.7"
  }
 },
 "nbformat": 4,
 "nbformat_minor": 5
}
