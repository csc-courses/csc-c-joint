{
 "cells": [
  {
   "cell_type": "markdown",
   "id": "d3a44210",
   "metadata": {},
   "source": [
    "## Stack and Heap\n",
    "\n",
    "\n",
    "_burton rosenberg, 28 june 2023_\n",
    "\n",
    "\n",
    "### Table of contents.\n",
    "\n",
    "1. <a href=#register>Register and Memory in the CPU</a>\n",
    "1. <a href=#addrmodes>Addressing Modes</a>\n",
    "1. <a href=#stackpointer>Stack Pointer</a>\n",
    "1. <a href=#stackframe>The Stack Frame</a>\n",
    "1. <a href=#stackpirates>Stack Pirates</a>\n",
    "1. <a href=#heap>The Heap</a>\n"
   ]
  },
  {
   "cell_type": "markdown",
   "id": "bc7e480d",
   "metadata": {},
   "source": [
    "### <a name=register>Register and Memory in the CPU</a>\n",
    "\n",
    "A very noticable difference in the use of memory between the hardware CPU and C Language is that C Language seems to operate on data items in the RAM. This is no the case in reality. The CPU can only do operations on data that is in its _registers_, memory locations on the CPU connected directly to the ALU. \n",
    "\n",
    "\n",
    "<div style=\"float:right;margin:2em;width:450px;border:1px solid green;padding:1em;\">\n",
    "<a title=\"MCS-80/85 Family User's Manual, Intel, October 1979\" href=\"https://archive.org/details/Mcs80_85FamilyUsersManual/\">\n",
    "<img src=\"../images/mcs8085-addressing-modes.png\">\n",
    "<br>MCS-80/85 Family User's Manual, Intel, October 1979.\n",
    "</a>\n",
    "</div>\n",
    "\n",
    "While the C programmer can write `k = i + j`, it compiler will turn this into machine code that,\n",
    "- moves from RAM to register the values in `i` and `j`,\n",
    "- instructs the ALU to add the contents of those two registers, leaving the result in some regiser,\n",
    "- moves from the result register to the RAM `k` location the resulting value.\n",
    "\n",
    "C languge very deliberately removed the concern of registers from the programmer. First, because it was tedious and did not contribute significantly to the quality of the software end product. Second, because the details of registers differ from chip to chip. Code that is written with concern for the registers can only be used on that or compatible chips.\n",
    "\n",
    "### <a name=addrmodes>Addressing Modes</a>\n",
    "\n",
    "The load and store from memory to register had a few ways of addressing the memory, which have certain analogies with C language data references. Without being specific on the particular chip architecture, here are some of the usual ways in which the memory location is specified,\n",
    "\n",
    "- _Direct:_ The address is included in the instruction.\n",
    "- _Register indirect:_ A register is named in the instruction. The value of that register is the memory address.\n",
    "- _Register indexed:_ A register is named in the instruction, and other value is provided, either directly in the instruction or by naming a second register. The memory address indicated is the sum of the contents of these two.\n",
    "\n",
    "These three sorts would be analogous in C to,\n",
    "\n",
    "- _Direct:_ Load or store to the variable name.\n",
    "- _Register indirect:_ Load or store from a pointer with the `*` notation.\n",
    "- _Register indexed:_ Load or store using the array notation with an index selected. In the one case, the index is a constant, in the other case, the index is itself a variable.\n",
    "\n",
    "### <a name=stackpointer>Stack Pointer</a>\n",
    "\n",
    "Among the registers on a CPU one register is used exclusively for addressing, and has two additional features that enhance its addressing capabilites. This register is called the _stack pointer_.\n",
    "\n",
    "The additional capabilites is that the register can increment itself after a load and decrement itself after a store. The store is called a _push_, and since the register decrements, repeated pushes will store the data in descending locations in the memory. The load is a called a _pop_, and since the register increments, repeated pops will load data from ascending locations in the memory.\n",
    "\n",
    "In addition, a push or pop can occur where the data is the program counter. A _call_ will push the current program counter through the stack pointer, and load a new program counter value. A _return_ will pop into the program counter, thus resuming at the point in the code where occured the matching push.\n",
    "\n",
    "That is what the hardware supplies as a mechanism. It is used by C to provide storage in an organized fashion for most of the variables in the program. \n",
    "\n",
    "All variables have, \n",
    "\n",
    "- a type,\n",
    "- a scope,\n",
    "- and a lifetime.\n",
    "\n",
    "The stack provides the proper lifetime for variables by pushing them onto the stack at the beginning of a function call, and popping them off the stack at the end of the function call. And as well, the entry to the function is by a hardware call the records the address to return to onto this same stack; and the completion of the function uses the hardware return instruction to come back to that point.\n",
    "\n",
    "It is easy to confuse _scope_ with _lifetime_. The _scope_ of a variable is the textual region of the code in which that variable name is known. It is completely the concern of the compiler. (And the program, who must understand the scope in the same way the compiler does.) The _lifetime_ of a variable is a runtime principle. It begins when space for the variable is allocated in the memory, and ends when the space is retired.\n",
    "\n",
    "In the case of a recursive subroutine we can have a dramatic example of how scope and lifetime differ. If a recursive subroutine as a variable `i`, there is in a sense just one `i` and it has a scope as evident in reading the code, without concern for what the code does. \n",
    "\n",
    "Each time the recursive subroutine is called, new space is allocated for `i`, and again a different variable with the same name will be given new storage. Because of the stack, these instances will not be confused. The `i` in the current stack will be used for data and the others will be covered up, and their values will be uncovered later.\n",
    "\n",
    "### <a name=stackframe>The Stack Frame</a>\n",
    "\n",
    "In fact, the C compiler does not depend on push and pop to make room for new variables. The compile lays out a plan for all the variable in the function and prepares code that drops the stack on entry to the function by the total amount of space needed for this plan. The region enclosed by this drop is called the _stack frame_. \n",
    "\n",
    "The complier also prepares code that raises the stock on exit from the function. The _lifetime_ of variables on the stack begins at the stack drop and ends at the stack raising.\n",
    "\n",
    "The function body then refers to all variables by stack pointer set to the bottom of the stack frame, plus a fixed offset that located the variable inside the stack frame.\n",
    "\n",
    "It is a little different for the parameters to the function call. They are placed on the stack as well, but by the caller. When the call is made, the return address is pushed underneat the parameters, and we are now at the bottom of the caller's stack frame. At this point the function is entered, a new stack frame created, but the return address and parameters are easily located by an offset from the top of the new stack frame.\n",
    "\n",
    "_Note:_ Top and bottom are ambiguous. I am here using top for higher numbered address and bottom for lower number addresses. And I am assuming that pushes decrement the stack pointer and pops increment the stack pointer.\n",
    "\n",
    "### <a name=stackpirates>Stack Pirates</a>\n",
    "\n",
    "We will do a pirate program to proof out the stack as it happens in a C langauge program. \n",
    "\n",
    "Pirating stacks is in fact a thing. One of the ways a hacker gets into your computer is by manipulating values on the stack in ways the cause the computer to run the hacker's program. We will set sail.\n",
    "\n",
    "\n",
    "Here is what I propose we do. As the recursive function gets called inside itself, there is a local variable `j`. It will have space in its stack frame, a new space and a new stack frame for each recursive call to `recursive`. The code will note the location in memory of `j`, and store it away in an array (defined at the top level of the file, and hence in all the scope of all code in the file) called `stack_points`. We use the recursing variable `i` to guide this address into place. \n",
    "\n",
    "Once we get to the bottom of the recursion, the code prints out the list of addresses, and the contents at that address. At the point of `print_stack`, all the stack frames are in lifetime. Once begin to return back up the call stack the call frames go out of life time, but at moment of printing they are all in lifetime. \n",
    "\n",
    "This can vary by computer and implementation, but on this MacBook Pro M1, note that the spacing between locations is a regular 32 bytes (hex 0x20). \n"
   ]
  },
  {
   "cell_type": "code",
   "execution_count": 15,
   "id": "60eac9fe",
   "metadata": {},
   "outputs": [
    {
     "name": "stdout",
     "output_type": "stream",
     "text": [
      "Writing stack-pirates.c\n"
     ]
    }
   ],
   "source": [
    "%%file stack-pirates.c\n",
    "#include<stdio.h>\n",
    "\n",
    "#define N 5\n",
    "\n",
    "int * stack_points[N] ;\n",
    "\n",
    "void print_stack() {\n",
    "    int i ;\n",
    "    printf(\"stack address\\tdata\\n--------------------\\n\");\n",
    "    for (i=0;i<N;i++) {\n",
    "        printf(\"%p\\t%d\\n\", *(stack_points+i), **(stack_points+i)) ;\n",
    "    }\n",
    "    return ;\n",
    "}\n",
    "\n",
    "int recursive(int i) {\n",
    "    int j ; \n",
    "    if (i==N) {\n",
    "        print_stack() ;\n",
    "        return 0 ;\n",
    "    }\n",
    "    stack_points[i] = &j ;\n",
    "    j = i ;\n",
    "    recursive(i+1) ;\n",
    "    return i ;\n",
    "}\n",
    "\n",
    "int main(int argc, char * argv[]){\n",
    "    recursive(0) ;\n",
    "    return 0 ;\n",
    "}"
   ]
  },
  {
   "cell_type": "code",
   "execution_count": 16,
   "id": "596f89e8",
   "metadata": {},
   "outputs": [
    {
     "name": "stdout",
     "output_type": "stream",
     "text": [
      "stack address\tdata\n",
      "--------------------\n",
      "0x3053405a4\t0\n",
      "0x305340584\t1\n",
      "0x305340564\t2\n",
      "0x305340544\t3\n",
      "0x305340524\t4\n"
     ]
    }
   ],
   "source": [
    "%%bash\n",
    "S=stack-pirates\n",
    "cc -o stack-pirates stack-pirates.c\n",
    "./stack-pirates\n",
    "rm stack-pirates.c stack-pirates"
   ]
  },
  {
   "cell_type": "markdown",
   "id": "09a081f8",
   "metadata": {},
   "source": [
    "### <a name=heap>The Heap</a>"
   ]
  },
  {
   "cell_type": "code",
   "execution_count": null,
   "id": "5b11ffce",
   "metadata": {},
   "outputs": [],
   "source": []
  }
 ],
 "metadata": {
  "kernelspec": {
   "display_name": "Python 3 (ipykernel)",
   "language": "python",
   "name": "python3"
  },
  "language_info": {
   "codemirror_mode": {
    "name": "ipython",
    "version": 3
   },
   "file_extension": ".py",
   "mimetype": "text/x-python",
   "name": "python",
   "nbconvert_exporter": "python",
   "pygments_lexer": "ipython3",
   "version": "3.9.7"
  }
 },
 "nbformat": 4,
 "nbformat_minor": 5
}
