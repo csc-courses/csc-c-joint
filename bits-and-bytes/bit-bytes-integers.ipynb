{
 "cells": [
  {
   "cell_type": "markdown",
   "id": "455627af",
   "metadata": {},
   "source": [
    "## Bits, Bytes and Integers\n",
    "\n",
    "\n",
    "_burton rosenberg, 23 june 2023_\n",
    "\n",
    "\n",
    "For the purposes of this section, a computer consists of three elements,\n",
    "\n",
    "- A memory device, called the RAM\n",
    "- A control and computation device, called the CPU\n",
    "- A connection between the RAM and CPU called the bus.\n",
    "\n",
    "The CPU sends over the bus a request to the RAM to read or write a particular data item at a particular address. In a simplified model, the RAM is a collection of cells, each capable of storing a _byte_, and each cell as an integer index. The index is important in several ways,\n",
    "\n",
    "- It locates the byte.\n",
    "- Consecutive indices are useful in creating data items that are multiple bytes.\n",
    "- Certain access patterns do calculations on the idecies for finding data items.\n",
    "\n",
    "The CPU calls out through the bus to the RAM to retrieve or store bytes. (In reality, multiple bytes are retrieced or stored in a single data movement, sometimes even full _cache lines_. In the case of a cache line, it is like asking for a glass of water and the waiter brings a glass and a bucket of water, assuming you will eventually want another water and cost of bringing water is more about makign the trinp than much is brought in one trip.)\n",
    "\n",
    "<pre>\n",
    "\n",
    "data read:\n",
    "\n",
    "    +-----+                 +-----+\n",
    "    |     |   address --&gt;   |     |\n",
    "    | CPU | ===== BUS ===== | RAM |\n",
    "    |     |    &lt;-- data     |     | \n",
    "    +-----+                 +-----+    \n",
    "    \n",
    "\n",
    "data write:\n",
    "\n",
    "    +-----+   address --&gt;   +-----+\n",
    "    |     |     data  --&gt;   |     |\n",
    "    | CPU | ===== BUS ===== | RAM |\n",
    "    |     |                 |     | \n",
    "    +-----+                 +-----+    \n",
    "</pre>\n",
    "\n",
    "\n",
    "### What is a byte?\n",
    "\n",
    "<div style=\"float:right;margin:2em;\">\n",
    "<a title=\"Billie Grace Ward from New York, USA, CC BY 2.0 &lt;https://creativecommons.org/licenses/by/2.0&gt;, via Wikimedia Commons\" href=\"https://commons.wikimedia.org/wiki/File:Paper_Tape_Drive_(31437412070).jpg\"><img width=\"512\" alt=\"Paper Tape Drive (31437412070)\" src=\"https://upload.wikimedia.org/wikipedia/commons/thumb/6/6f/Paper_Tape_Drive_%2831437412070%29.jpg/512px-Paper_Tape_Drive_%2831437412070%29.jpg\"></a>\n",
    "</div>\n",
    "\n",
    "\n",
    "The fundatmental data item in a computer is a _bit_. A bit is any sort of physical phenomena that can distinguish two states, called _zero_ and _one_. I some memories it whether a particular small region in silicon wafer has a charge or not; for \"spinning rust\" hard drives it was whether a small section of magnitizable material was magnitized north polarity or south polarity. The ancient data storage device the punched tape memorialized the zero/one as the presence or not of a hole in a precise location on a paper tape.\n",
    "\n",
    "A byte is a collection of 8 bits, such that each bit has its proper place, as in the 0th bit, the 1st bit, up to the 7th bit. Note that computers like to count from 0. So for 8 bits, the largest location is called the 7th location.\n",
    "\n",
    "While other bytes sizes were tried, history of computing somehow settled down on 8 bits to form the most basic data item, the byte. C Language adopted this and give the name `char` to this basic building block of storage. The word char is short for character, because the byte was the appropriate data unit to represent characters.\n",
    "\n",
    "\n",
    "A byte in its most basic is a signfication of 256 different possibilies for the values of the 8 bits in the byte. We can calculate this value 256 in the following manner.\n",
    "\n",
    "<div style=\"border:thin solid green;margin:2em;padding:2em;\">\n",
    "    <b>How many different possibilities are there for i bits?</b> \n",
    "    \n",
    "The way to calculate 256 is to create a formula for how many different possibilities there are for i bits, and then calculate with i equal to 8. For $i=1$, there are two possibilites. For each additional bit, the number of possibilities doubles. \n",
    "\n",
    "For instance, for $i=2$ we have,\n",
    "\n",
    "`['00','01','10','11']`. \n",
    "\n",
    "Adding a third bit we write down the list twice, with a 0 or 1 in front to distinguish the first from the second writing and get the 8 possibilites,\n",
    "\n",
    "`['000','010','010','011','100','101','110','111']`.\n",
    "\n",
    "The conclusion is the very important formula, there are $2^i$ different combinations on $i$ bits.\n",
    "\n",
    "</div>"
   ]
  },
  {
   "cell_type": "code",
   "execution_count": 1,
   "id": "e8825e65",
   "metadata": {},
   "outputs": [
    {
     "name": "stdout",
     "output_type": "stream",
     "text": [
      "['000', '001', '010', '011', '100', '101', '110', '111']\n"
     ]
    }
   ],
   "source": [
    "#\n",
    "# a python program to ennumerate all the bit sequence on i bits\n",
    "# it uses recursion to create a list for i-1 bits, then adds one more \n",
    "# bit.\n",
    "#\n",
    "\n",
    "def ennumerate_zero_one_patterns(i):\n",
    "    \n",
    "    def ennumerate_zero_one_patterns_aux(i):\n",
    "        if i==1:\n",
    "            return ['0','1']\n",
    "        l = ennumerate_zero_one_patterns_aux(i-1)\n",
    "        r = l[:]\n",
    "        for i in range(len(l)):\n",
    "            r[i] = '1'+l[i]\n",
    "            l[i] = '0'+l[i]\n",
    "        return l+r\n",
    "    \n",
    "    assert i>0, 'input must be greater than one'\n",
    "    return ennumerate_zero_one_patterns_aux(i)\n",
    "    \n",
    "print(ennumerate_zero_one_patterns(3))"
   ]
  },
  {
   "cell_type": "markdown",
   "id": "ba100765",
   "metadata": {},
   "source": [
    "\n",
    "### Representations of integers\n",
    "\n",
    "\n",
    "The bit patterns can also be associated with positive integers by the formula,\n",
    "\n",
    "$$\n",
    "\\mathcal{N}(b_l, b_{l-1}, \\ldots, b_0) = \\sum_i 2^i b_i\n",
    "$$\n",
    "\n",
    "That is, write $n$ in binary, and make a sequence out of the bits in the representation.\n",
    "\n"
   ]
  },
  {
   "cell_type": "code",
   "execution_count": 2,
   "id": "fa65f562",
   "metadata": {},
   "outputs": [
    {
     "name": "stdout",
     "output_type": "stream",
     "text": [
      "Writing string-to-int.c\n"
     ]
    }
   ],
   "source": [
    "%%file string-to-int.c\n",
    "\n",
    "#include<stdio.h>\n",
    "#include<string.h>\n",
    "\n",
    "int main(int argc, char * argv[]){\n",
    "    int i ;\n",
    "    int sum = 0 ;\n",
    "    int two_to_the_i = 1 ;\n",
    "    char * s = argv[1] ; \n",
    "    printf(\"%s\\t\", s) ;\n",
    "    \n",
    "    for (i=strlen(s);i>0;i--){\n",
    "        if (s[i-1]=='1') {\n",
    "            sum = sum + two_to_the_i ;\n",
    "        }\n",
    "        two_to_the_i = 2 * two_to_the_i ;\n",
    "    }\n",
    "    \n",
    "    printf(\"%d\\n\", sum) ;\n",
    "    return 0 ;\n",
    "}"
   ]
  },
  {
   "cell_type": "code",
   "execution_count": 3,
   "id": "05af6883",
   "metadata": {},
   "outputs": [
    {
     "name": "stdout",
     "output_type": "stream",
     "text": [
      "000\t0\n",
      "001\t1\n",
      "010\t2\n",
      "011\t3\n",
      "100\t4\n",
      "101\t5\n",
      "110\t6\n",
      "111\t7\n"
     ]
    }
   ],
   "source": [
    "!cc -o string-to-int string-to-int.c\n",
    "int_representations = ennumerate_zero_one_patterns(3)\n",
    "for a_representation in int_representations:\n",
    "    !./string-to-int {a_representation}\n",
    "!rm string-to-int"
   ]
  },
  {
   "cell_type": "markdown",
   "id": "c862d033",
   "metadata": {},
   "source": [
    "#### The int and long int datatypes\n",
    "\n",
    "\n",
    "\n",
    "We have shown that the computer can represent integers in binary, and have discussed so far only bytes. Since bytes have only 256 bit patterns, they can only store a small range of integers. So far we have shown how it can store the integers 0 through 255. There are two deficiencies,\n",
    "\n",
    "- We must be able to store much larger intergers\n",
    "- We must be able to represent both positive and negative integers.\n",
    "\n",
    "C Language has two data types for integers, _signed_ and _unsigned_. The type _unsigned char_ is one byte and the various bit patterns are used to represent the integers 0 through 255, using the obvious binary representation. \n",
    "\n",
    "We set aside for now the representation of negative numbers, and address that we would like a much larger range of positive numbers represented.\n",
    "\n",
    "To store larger numbers the computer will use more bytes, and will collect them so that they have consecutive adresses in the RAM. This way, the location of the integer remains a single address. The number of bytes is known because the reference has a type that includes the number of bytes. \n",
    "\n",
    "<div style=\"float:right;margin:2em;\">\n",
    "<img width=\"512\" src=\"../images/TCPL-1ed-bytesize.png\"></a>\n",
    "</div>\n",
    "\n",
    "It is a fact that C Language did not lay down the law about the number of bytes for each integer datatype, except that a char is one byte, and \"larger\" data types should have more bytes. However, 32 bits is the standard integer, with type names `int` and `unsigned int`. The image is from TCPL first edition, where they give the number of bits in the various integer and byte types of computers of that time.\n",
    "\n",
    "There were then two variants of `int`, the `short int` and the `long int`. The actual number of bytes is not defined in the C Language, except that a short int cannot be longer than an int, and a long int cannot be shorter than an int. Let's say for normality that a short is 16 bits and a long is 64 bits. Beware though, this will depend on the computer and the compiler.\n",
    "\n",
    "The builtin operator `sizeof` gives the number of bytes of the object mentioned as its argument. The argument can be a data type or a variable. Although `sizeof` looks like a function call, it is not. If it were a function call, we would have to wait until the prgram ran before the value of `sizeof` is known. It is already known at compile time.\n"
   ]
  },
  {
   "cell_type": "code",
   "execution_count": 4,
   "id": "a61c947f",
   "metadata": {},
   "outputs": [
    {
     "name": "stdout",
     "output_type": "stream",
     "text": [
      "Writing sizeof-wow.c\n"
     ]
    }
   ],
   "source": [
    "%%file sizeof-wow.c\n",
    "\n",
    "#include<stdio.h>\n",
    "\n",
    "int main(int argc, char * argv[]) {\n",
    "    printf(\"type:\\tbytes\\n\") ;\n",
    "    printf(\"char:\\t%lu\\n\", sizeof(char)) ;\n",
    "    printf(\"short:\\t%lu\\n\", sizeof(short int)) ;\n",
    "    printf(\"int:\\t%lu\\n\",  sizeof(int)) ;\n",
    "    printf(\"long:\\t%lu\\n\",  sizeof(long int)) ;\n",
    "    return 0 ;\n",
    "}"
   ]
  },
  {
   "cell_type": "code",
   "execution_count": 5,
   "id": "01310bdb",
   "metadata": {},
   "outputs": [
    {
     "name": "stdout",
     "output_type": "stream",
     "text": [
      "type:\tbytes\n",
      "char:\t1\n",
      "short:\t2\n",
      "int:\t4\n",
      "long:\t8\n"
     ]
    }
   ],
   "source": [
    "%%bash\n",
    "cc -o sizeof-wow sizeof-wow.c\n",
    "./sizeof-wow\n",
    "rm sizeof-wow"
   ]
  },
  {
   "cell_type": "markdown",
   "id": "35f4ff50",
   "metadata": {},
   "source": [
    "### The memory layout of integers\n",
    "\n",
    "We will learn something about computer architectures and something about the C programming language together.\n",
    "\n",
    "We have described how an integer is stored in a computer using multiple bytes, and for the convenience of the hardware those bytes will be in consecutive locations in the memory. They will also be at memory locations, when the index is considered as a integer, the multiple of the data type size. We will demonstrated this, but with a little hackery.\n",
    "\n",
    "We have also said that the memory unit consists of an array of bytes, each with an index, in fact, an integer. In many C language situations, we can actualize this. \n",
    "\n",
    "Given a memory item, say the integer `int i`, as a 32-bit integer is occupies four addresses in memory, say $m, m+1, m+2, m+3$. The notation `&i` gives a _pointer_ to `i`, which is an abstract memory reference, which in this case would be of type _pointer to an int_, or in C notation `int *` (said \"int-star\").\n",
    "\n",
    "It is a grave error to confuse a memory pointer with an integer, the \"location\" of the byte or the starting location of bytes, with a pointer. But we will do just that, by coercing the pointer to an _unsigned long int_. We need it to be unsigned, as there are no negative indexed locations in memory, and long, as most computers now are said to be 64-bit machines, meaning that their potential memory space is $2^{64}$ locations. Now no computer today actualizes this, but it actualizes some amount of that space.\n",
    "\n",
    "\n",
    "#### C arrays\n",
    "\n",
    "To look at the memory for a single integer type data item, be it short, int or long, we will consider an _array_ of integers. This is a sequence of several data items identified with the name of the array and an integer indicating whether we are considering the zeroth, first, second, third, etc, item along the array of items. C lays these out sequentially in memory so that the $i$-th element is easy to find from the location of the zero-th element and the size (number of bytes) for each element.\n",
    "\n",
    "It packs these in tightly. So if we define a two element array of int, the integer address of the zero-th element and that of the first element should be separated by the `sizeof` of the element. "
   ]
  },
  {
   "cell_type": "code",
   "execution_count": 6,
   "id": "ba4e3ace",
   "metadata": {},
   "outputs": [
    {
     "name": "stdout",
     "output_type": "stream",
     "text": [
      "Writing sizeof-ints.c\n"
     ]
    }
   ],
   "source": [
    "%%file sizeof-ints.c\n",
    "\n",
    "#include<stdio.h>\n",
    "int main(int argc, char * argv[]) {\n",
    "    short s[2] ;\n",
    "    int i[2] ;\n",
    "    long l[2] ;\n",
    "    \n",
    "    printf(\"s[0] @ %lu\\ns[1] @ %lu\\n\", (unsigned long) &s[0], (unsigned long) &s[1] ) ;\n",
    "    printf(\"i[0] @ %lu\\ni[1] @ %lu\\n\", (unsigned long) &i[0], (unsigned long) &i[1] ) ;\n",
    "    printf(\"l[0] @ %lu\\nl[1] @ %lu\\n\", (unsigned long) &l[0], (unsigned long) &l[1] ) ;\n",
    "\n",
    "    return 0 ;\n",
    "}\n"
   ]
  },
  {
   "cell_type": "code",
   "execution_count": 7,
   "id": "301877c5",
   "metadata": {},
   "outputs": [
    {
     "name": "stdout",
     "output_type": "stream",
     "text": [
      "s[0] @ 13089518988\n",
      "s[1] @ 13089518990\n",
      "i[0] @ 13089519024\n",
      "i[1] @ 13089519028\n",
      "l[0] @ 13089519008\n",
      "l[1] @ 13089519016\n"
     ]
    }
   ],
   "source": [
    "\n",
    "%%bash\n",
    "cc -o sizeof-ints sizeof-ints.c\n",
    "./sizeof-ints\n",
    "rm sizeof-ints"
   ]
  },
  {
   "cell_type": "code",
   "execution_count": null,
   "id": "6e18405a",
   "metadata": {},
   "outputs": [],
   "source": []
  }
 ],
 "metadata": {
  "kernelspec": {
   "display_name": "Python 3 (ipykernel)",
   "language": "python",
   "name": "python3"
  },
  "language_info": {
   "codemirror_mode": {
    "name": "ipython",
    "version": 3
   },
   "file_extension": ".py",
   "mimetype": "text/x-python",
   "name": "python",
   "nbconvert_exporter": "python",
   "pygments_lexer": "ipython3",
   "version": "3.9.7"
  }
 },
 "nbformat": 4,
 "nbformat_minor": 5
}
