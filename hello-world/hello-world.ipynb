{
 "cells": [
  {
   "cell_type": "markdown",
   "id": "c0e235aa",
   "metadata": {},
   "source": [
    "-----\n",
    "\n",
    "## Hello World Program\n",
    "\n",
    "-----\n",
    "\n",
    "<pre>\n",
    "author: burton rosenberg\n",
    "creation date: 23 june 2023\n",
    "last-uptdate:\n",
    "    23 june 2023\n",
    "</pre>    "
   ]
  },
  {
   "cell_type": "markdown",
   "id": "c67f2794",
   "metadata": {},
   "source": [
    "### Introduction: Hello World\n",
    "\n",
    "This should be a swift introduction to the C Programming Language. \n",
    "\n",
    "The two references I would like you to consider are,\n",
    "\n",
    "- The C Programming by Kernigan and Richie. Borrow it at <a href=\"https://archive.org/details/TheCProgrammingLanguageFirstEdition\">The Internet Archives</a>\n",
    "- The C Reference Manual by Harbison and Steel. Borrow it at  <a href=\"https://archive.org/details/creferencemanual00harb\">The Internet Archives</a>\n",
    "\n",
    "The first program we write prints \"hello, world!\", as did the first program in TCPL, except I add an exclamiation point because it is just that exciting. \n",
    "\n",
    "The text of the program is below, and it is compiled (`cc`) and run."
   ]
  },
  {
   "cell_type": "code",
   "execution_count": 42,
   "id": "dc056725",
   "metadata": {},
   "outputs": [
    {
     "name": "stdout",
     "output_type": "stream",
     "text": [
      "Overwriting hello-world.c\n"
     ]
    }
   ],
   "source": [
    "%%file hello-world.c\n",
    "\n",
    "#include<stdio.h>\n",
    "\n",
    "int main(int argc, char * argv[]) {\n",
    "    printf(\"hello, world!\\n\") ;\n",
    "    return 0 ;\n",
    "}\n"
   ]
  },
  {
   "cell_type": "code",
   "execution_count": 2,
   "id": "52d24402",
   "metadata": {},
   "outputs": [
    {
     "name": "stdout",
     "output_type": "stream",
     "text": [
      "hello world!\n"
     ]
    }
   ],
   "source": [
    "%%bash\n",
    "cc -o hello-world hello-world.c\n",
    "./hello-world\n",
    "rm hello-world"
   ]
  },
  {
   "cell_type": "markdown",
   "id": "b753af8a",
   "metadata": {},
   "source": [
    "The `int main ( ... ) { ... }` is a _function definition_. \n",
    "\n",
    "- The name of the function is `main`.\n",
    "- It returns a value of type `int`.\n",
    "- It takes the parameters named in the parathesis.\n",
    "- And the execution of the function defines the variables found in the _declarations_ and executes in sequence the _statements_ found in the body (enclosed in braces).\n",
    "\n",
    "\n",
    "Before the definition of `main` is an `#include` statement. This is a statemetn in the C Preprocessing language, definted along side the C Language. It is needed here because the function `printf` is not defined here, but the compiler needs to know enough about how `printf` is excuted, and what values it returns, in order to compile this program.\n",
    "\n",
    "There are two statements in the body. A call to the fucntion `printf` and a `return` that exits the program, with return value 0, to signal all went well.\n",
    "\n",
    "The function `printf` is a wonderful function that we can talk about endlessly, however here it simply takes a single argument, a _string_ and prints it. What is written here is a string, a sequence of characters. One character is made up of two elements, the backslash and the letter n. The backslash is an escape character that signals that the character following had another meaing that the self-evident letter value. In this case, `\\n` is the two character sequence for _newline_.\n",
    "\n",
    "Note the semicolons. Semicolons turn expressions into statements. "
   ]
  },
  {
   "cell_type": "markdown",
   "id": "c8bfa886",
   "metadata": {},
   "source": [
    "### Expressions and Operators\n",
    "\n",
    "An expression in C is a unit that is evaluate and results in a value. The expression combines variables with operators. \n",
    "\n",
    "There are several sorts of operators. \n",
    "\n",
    "- Arithmetic, such as `+` and `-`. The `-` operator is ambigous as it is either the binary subtraction operator or the unary negation operator.\n",
    "\n",
    "- Logical and comparison operators, such as `&&` for logical (and short curcuited) and, or `==` for equality. These are operators because they are evaluated and return a value. For these the value is either 0 for false or 1 for true.\n",
    "\n",
    "- The assignment operators, such as `=` or `+=`. These expect an expression on the right that is evaluted for a value, and that value is the result of the operator. As a side effect that value is stored in the variable appearing on the left side of the operator. The `+=` is an increment version in which the left hand side is retrieved and added to the expression result of the right hand side.\n",
    "\n",
    "- There are data access operators to access an array, `[ ]`, a field of a structure, `.`, a field of a structure from a reference to the structure, `->`, or the invoke a fucntion, `( )`. \n",
    "\n",
    "- There are referencing `&` and dereferencing `*` operators. \n",
    "\n",
    "- There is the `sizeof` operator."
   ]
  },
  {
   "cell_type": "markdown",
   "id": "bfbcf278",
   "metadata": {},
   "source": [
    "### While and For statements\n",
    "\n",
    "The for and while statements are used to control the repeated application of a statement or a curly-brace enclosed sequence of statements. The statement is introduced with the `while` and `for` keyword. A control is provided next, as a parenthesized expression. Then follows the statement or a compound statement.\n",
    "\n",
    "For the `while` statement the parenthesized expression contains an expression which is evaluate for truth, and the statement or statements in the compound statement are run while the evaluation yeilds true. \n",
    "\n",
    "The `for` statement is the one-stop shop for a standard form of while loop. The parenthesized expression is a compound statement of three expressions: an initialization express run first and once; a control expression as in the control of the while loop; and an update expression that is run after the controlled statement is run and before the control expression is re-evaluated."
   ]
  },
  {
   "cell_type": "code",
   "execution_count": 29,
   "id": "f8669c6c",
   "metadata": {},
   "outputs": [
    {
     "name": "stdout",
     "output_type": "stream",
     "text": [
      "Writing boom.c\n"
     ]
    }
   ],
   "source": [
    "%%file boom.c\n",
    "\n",
    "#include<stdio.h>\n",
    "\n",
    "#define N 10\n",
    "\n",
    "int main(int argc, char * argv[]) {\n",
    "    \n",
    "    int i ; // declare the loop variable\n",
    "    \n",
    "    i = N ; // initialize the loop variable\n",
    "    \n",
    "    while (i>0) {  // test the loop variable\n",
    "                 \n",
    "        printf(\"%d\\n\", i) ;\n",
    "                 \n",
    "        i = i - 1 ;  // update the loop variable\n",
    "    }\n",
    "    printf(\"Boom!\\n\") ;\n",
    "    return 0 ;\n",
    "}"
   ]
  },
  {
   "cell_type": "code",
   "execution_count": 30,
   "id": "b422a7d4",
   "metadata": {},
   "outputs": [
    {
     "name": "stdout",
     "output_type": "stream",
     "text": [
      "10\n",
      "9\n",
      "8\n",
      "7\n",
      "6\n",
      "5\n",
      "4\n",
      "3\n",
      "2\n",
      "1\n",
      "Boom!\n"
     ]
    }
   ],
   "source": [
    "%%bash\n",
    "S=boom\n",
    "cc -o $S $S.c\n",
    "./$S\n",
    "rm $S $S.c"
   ]
  },
  {
   "cell_type": "markdown",
   "id": "f782c3b3",
   "metadata": {},
   "source": [
    "The `for` statement combines initialization, test and update with in a single parenthesis. We also introduce the very famous `i++` which replaces `i = i + 1` and has the valiue of `i` before the increment.\n",
    "\n",
    "The expression `++i` replaces `i = i + 1` and has the valiue of `i` after the increment."
   ]
  },
  {
   "cell_type": "code",
   "execution_count": 40,
   "id": "532c4ce9",
   "metadata": {},
   "outputs": [
    {
     "name": "stdout",
     "output_type": "stream",
     "text": [
      "Writing boom.c\n"
     ]
    }
   ],
   "source": [
    "%%file boom.c\n",
    "\n",
    "#include<stdio.h>\n",
    "\n",
    "#define N 10\n",
    "\n",
    "int main(int argc, char * argv[]) {\n",
    "    int i ;\n",
    "    \n",
    "    for ( i = N ; i>0; i-- ) {  \n",
    "        printf(\"%d\\n\", i) ;\n",
    "    }\n",
    "    printf(\"Boom!\\n\") ;\n",
    "    \n",
    "    return 0 ;\n",
    "}"
   ]
  },
  {
   "cell_type": "code",
   "execution_count": 41,
   "id": "f29338f9",
   "metadata": {},
   "outputs": [
    {
     "name": "stdout",
     "output_type": "stream",
     "text": [
      "10\n",
      "9\n",
      "8\n",
      "7\n",
      "6\n",
      "5\n",
      "4\n",
      "3\n",
      "2\n",
      "1\n",
      "Boom!\n"
     ]
    }
   ],
   "source": [
    "%%bash\n",
    "S=boom\n",
    "cc -o $S $S.c\n",
    "./$S\n",
    "rm $S $S.c"
   ]
  },
  {
   "cell_type": "code",
   "execution_count": null,
   "id": "711b8b16",
   "metadata": {},
   "outputs": [],
   "source": []
  }
 ],
 "metadata": {
  "kernelspec": {
   "display_name": "Python 3 (ipykernel)",
   "language": "python",
   "name": "python3"
  },
  "language_info": {
   "codemirror_mode": {
    "name": "ipython",
    "version": 3
   },
   "file_extension": ".py",
   "mimetype": "text/x-python",
   "name": "python",
   "nbconvert_exporter": "python",
   "pygments_lexer": "ipython3",
   "version": "3.9.7"
  }
 },
 "nbformat": 4,
 "nbformat_minor": 5
}
