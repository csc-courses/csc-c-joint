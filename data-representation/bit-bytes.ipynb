{
 "cells": [
  {
   "cell_type": "markdown",
   "id": "0ed20595",
   "metadata": {},
   "source": [
    "## Bits and Registers\n",
    "\n",
    "\n",
    "_burton rosenberg, 29 june 2023_\n",
    "\n",
    "\n",
    "### Table of contents.\n",
    "\n",
    "1. <a href=\"#intro\">Introduction</a>\n",
    "1. <a href=#bits>Ways to represent a register</a>\n",
    "   1. <a href=#punchedtape>Punched tape</a>\n",
    "   1. <a href=#srlatch>SR Latch</a>\n",
    "1. <a href=#symbol>Ways to encode a symbol</a>\n",
    "   1. <a href=#paritycheck>Parity check</a>\n",
    "   1. <a href=#repetition>Repetition code</a>\n",
    "   1. <a href=#hamming>Hamming code</a>\n",
    "   1. <a href=#correction>Extended Discussion</a>\n"
   ]
  },
  {
   "cell_type": "markdown",
   "id": "455627af",
   "metadata": {},
   "source": [
    "\n",
    "### <a name=intro>Introduction</a>\n",
    "\n",
    "\n",
    "The first consideration is how integers are stored on a computer.\n",
    "\n",
    "The basic element of storage on a computer, as is the basic element of information is the _bit_. A bit can be in one of two states, which for the moment we will call 0 and 1. Bits are be assembled into a orderd collection of several bits, and each 0-1 combination can denote a uniquely identifiable symbol. It is not universal that the fundamental storage element of a computer is when 8 bits are assembled into a _byte_. The 8 bits give 256 different combinations, which can be set in correspondence with the integers 0 through 255.\n",
    "\n",
    "<div style=\"float:right;margin:2em;\">\n",
    "<img width=\"512\" src=\"../images/TCPL-1ed-bytesize.png\"></a>\n",
    "</div>\n",
    "\n",
    "The use of binary was basically practical. The bit state would be based on some physical phenomena, and so there would be noise. A binary indicator can be made very tolerant of noise but having a threshold in the reading of the phenomena so that about the threashod is a 1, and below a 0. The noise amounts woud not matter as long as the noise amplitude kept the intended signal on the proper side of the threshold.\n",
    "\n",
    "Furthermore, the correspondence between the bit pattern and an integer can be made completely natural thorugh the binary representation of the integer value. Recall that a number $n$  can be represented as a collection of zero-one values, $b_i$ by,\n",
    "\n",
    "$$\n",
    "n = \\sum_i b_i \\, 2^i\n",
    "$$\n",
    "\n",
    "In the case of the byte, the bits are assigned their bit number, giving the $b_i$ that is to appear in this equation. \n",
    "\n",
    "\n",
    "Note that a byte is an integer that has exactly 8 $b_i$. We will follow C language syntax and indicate a binary number by prefixing a 0-1 string with the indicatior `0b`. The number 5 in binary is `0b101`. However thinking about a byte it is best to visualize this written as `0b0000010`, accounting for all 8 bits in the byte.\n",
    "\n",
    "Already we see how tedious it is to write numbers in binary, although they suit the hardware just fine. Instead, when trying to thing about an integer in terms of which bits are 1 and which are 0, the number is better written in base 16, known as _hexidecimal_. It is pretty important for a computer scientist to know hexidecimal, so I hope to give you some exericses to practice this number notation.\n",
    "\n",
    "Hexidecimal is base 16, hence there must be 16 \"digits\" for each place, and these are, \n",
    "\n",
    "$$\n",
    "0, 1, 2, 3, 4, 5, 6, 7, 8, 9, a, b, c, d, e, f\n",
    "$$\n",
    "\n",
    "We will fillow C language syntax and indicate a hexidecimal number by prefixing the string of thise hex-its with the indicator `0x`. The number 5 in hexidecimal is `0x5`, However thinking about a byte it is best to write this as `0x05`, so all 8 bits are accounted for.\n",
    "\n",
    "\n",
    "We will call _register_ the notion of a byte, but of any length. This is novel language, except that it is consistent with the name _registers_ are is it used in CPU architectures. When data is stored in a CPU it is stored in a CPU register. A 16 bit register (Intel 8085) it can store numbers from `0x0000` to `0xffff` (0 to 65,536).\n",
    "\n",
    "### <a name=bits>Ways to represent a register</a>\n",
    "\n",
    "<div style=\"float:right;margin:2em;\">\n",
    "<a title=\"Billie Grace Ward from New York, USA, CC BY 2.0 &lt;https://creativecommons.org/licenses/by/2.0&gt;, via Wikimedia Commons\" href=\"https://commons.wikimedia.org/wiki/File:Paper_Tape_Drive_(31437412070).jpg\"><img width=\"334\" alt=\"Paper Tape Drive (31437412070)\" src=\"https://upload.wikimedia.org/wikipedia/commons/thumb/6/6f/Paper_Tape_Drive_%2831437412070%29.jpg/512px-Paper_Tape_Drive_%2831437412070%29.jpg\"></a>\n",
    "</div>\n",
    "\n",
    "\n",
    "#### <a name=punchedtape>Punched tape</a>\n",
    "\n",
    "A bit can be represented by any manner in which there can be a distinction between two states. Here we see an early data storage strategy with a paper tape. Each column across the tape was a 5 bit byte, and it locations marked off in 5-th way from edge to edge, a hole was a 1 and no hoe was a 0. The 5 bit byte was supported by an early code called the [Baudot code](https://en.wikipedia.org/wiki/Baudot_code), invented by Emile Baudot in 1870. Its 32 different combinations barely fit enough symbols to be useful. While the Baudo code is obsolete, the word _baud_ is still with us, and it refers to the number of symbols per second in a communication channel.\n",
    "\n",
    "The code for this punched tape might rather be the Murray code, 1901, which modified the Baudot code to minimize the average numbers of holes punched given a typical message. \n",
    "\n",
    "Both these codes use a system of _shift_, where a shift character uses the reminaing 31 characters in either _letter_ or _figure_ contexts. This idea is still used today, for example in C language where the letter `t` is either itself, or the tab symbol, when preceded with the \"shift\" character, the backspace, `\\t`,\n",
    "\n",
    "\n",
    "#### <a name=srlatch>SR Latch</a>\n",
    "\n",
    "A bit can be stored by using hardware that can implement simple logic circuits. Consider the equations with input variable $S$ and $R$, and output variable $Q$ and $Q'$.\n",
    "\n",
    "<div style=\"float:right;margin:2em;\">\n",
    "<a title=\"Goodphy, CC BY-SA 4.0 &lt;https://creativecommons.org/licenses/by-sa/4.0&gt;, via Wikimedia Commons\" href=\"https://commons.wikimedia.org/wiki/File:SR_NOR_Latch_How_to_Work_Ver1_Dong-Gyu_Jang_20200309.png\"><img width=\"334\" alt=\"SR NOR Latch How to Work Ver1 Dong-Gyu Jang 20200309\" src=\"https://upload.wikimedia.org/wikipedia/commons/thumb/2/26/SR_NOR_Latch_How_to_Work_Ver1_Dong-Gyu_Jang_20200309.png/256px-SR_NOR_Latch_How_to_Work_Ver1_Dong-Gyu_Jang_20200309.png\"></a>\n",
    "</div>\n",
    "\n",
    "\\begin{eqnarray}\n",
    "Q &=& \\lnot\\, (R \\lor Q')\\\\\n",
    "Q' &=& \\lnot\\, (S \\lor Q)\\\\\n",
    "\\end{eqnarray}\n",
    "\n",
    "- When $S$ and $R$ are both zero, then $Q = \\lnot\\,Q'$, for either $Q=0$ or $Q=1$. This is the _hold_ state.\n",
    "- When $S=1$ and $R=0$, then the unique solution to the equation is $Q=1$ and $Q'=0$. This sigal is called _set_.\n",
    "- When $S=0$ and $R=1$, then the unique solution to the equation is $Q=0$ and $Q'=1$. This sigal is called _reset_.\n",
    "- The case where $S$ and $R$ are both 1 is not allowed in practice.\n",
    "\n",
    "Such logic circuits were possible with early electronics, and now can be built with either transitors or Op Amps. When electronic circuits were miniturized, it became possible to store tens or hundreds of bits using SR latches.\n",
    "\n",
    "The SR Latch works as follows. It is found in the hold state ($R=S=0$) in either the $Q=0$ or $Q=1$ state. Because the $R$ and $S$ are zero, we have a loop in which $Q$ sets $Q'$ to its negation and $Q'$ sets $Q$ to its negation. So we have a stable stored value.\n",
    "\n",
    "To set $Q$ to 0, reset the latch. This is accomplished by setting $R=1$ then releasing $R$ back to zero. \n",
    "\n",
    "To set $Q$ to 1, set the latch. This is accomplished by setting $S=1$ then releasing $S$ back to zero. \n"
   ]
  },
  {
   "cell_type": "markdown",
   "id": "67c7cb29",
   "metadata": {},
   "source": [
    "\n",
    "### <a name=symbol>Ways to encode a symbol</a>\n",
    "\n",
    "We have discussed,\n",
    "\n",
    "- the notion of a _register_, a bank of settable bits. \n",
    "- the natural correspondence between the bit setting and an integer, but of limited range (and only positive).\n",
    "- some ways to implement bits and a register.\n",
    "- techniques of setting symbols into a register, for example, Baudot using shift codes.\n",
    "\n",
    "A mechanism to protect the data in a register by making the data self-confirming. There are two versions of this self-confirmation: _error detection_ and _error correction_.\n",
    "\n",
    "With error detection, the data element can be tested for correctness. Some bit patterns are correct and some are not. This reduces the amount of information carreid by the register, as only the correct patterns are accepted, all incorrect patterns are ignotre.\n",
    "\n",
    "With error correction, a guess can be made about the unacceptible bit patterns to nudge them back to correct. \n",
    "\n",
    "\n",
    "#### <a name=paritycheck>Parity check</a>\n",
    "\n",
    "We give an example parity check for a byte. We will divide the span of values of the byte into half valid and half invalid. The difference between a valid byte value and an invalid byte value will be the flip of one bit. This protects the byte against the sort of error that flips one bit. Given a valid byte, no matter which bit is flipped, the result is an invalid byte.\n",
    "\n",
    "The parity of a register is whether the number of one's in the register is even or odd. Even parity check considers only those patterns with even parity are valid. Odd parity reverses the convention. \n"
   ]
  },
  {
   "cell_type": "code",
   "execution_count": 190,
   "id": "f33a2dd6",
   "metadata": {},
   "outputs": [
    {
     "name": "stdout",
     "output_type": "stream",
     "text": [
      "Writing parity-check.c\n"
     ]
    }
   ],
   "source": [
    "%%file parity-check.c\n",
    "#include<stdio.h>\n",
    "#include<stdlib.h>\n",
    "\n",
    "char parity_check(char c, int direction) {\n",
    "    int mask = 0x01 ;\n",
    "    int bit_number ;\n",
    "    int parity = 0 ;\n",
    "    for (bit_number=0;bit_number<8;bit_number++) {\n",
    "        if (c&mask) parity++ ;\n",
    "        mask <<= 1 ;\n",
    "    }\n",
    "    c = (parity%2==direction)? c : c^0x80 ;\n",
    "    return c ;\n",
    "}\n",
    "\n",
    "int main(int argc, char * argv[]) {\n",
    "    unsigned char uc = (unsigned char) atoi(argv[1]) ;\n",
    "    unsigned char uc_chk ;\n",
    "    uc_chk = parity_check(uc,0) ;\n",
    "    printf(\"0x%02x: 0x%02x\\n\", (int) uc, (int) uc_chk ) ;\n",
    "    return 0 ;\n",
    "}"
   ]
  },
  {
   "cell_type": "code",
   "execution_count": 191,
   "id": "be10ca69",
   "metadata": {
    "scrolled": true
   },
   "outputs": [
    {
     "name": "stdout",
     "output_type": "stream",
     "text": [
      "code  parity\n",
      "------------\n",
      "0x00: 0x00\n",
      "0x01: 0x81\n",
      "0x02: 0x82\n",
      "0x03: 0x03\n",
      "0x10: 0x90\n",
      "0x30: 0x30\n",
      "0x1c: 0x9c\n"
     ]
    }
   ],
   "source": [
    "program = \"parity-check\"\n",
    "!cc -o {program} {program}.c\n",
    "print(\"code  parity\")\n",
    "print(\"------------\")\n",
    "for test_value in [0,1,2,3,0x10,0x30, 0x1c]:\n",
    "    !./{program} {test_value}\n",
    "!rm {program}.c {program}"
   ]
  },
  {
   "cell_type": "markdown",
   "id": "eba72d55",
   "metadata": {},
   "source": [
    "#### <a name=repetition>Repetition code</a>\n",
    "\n",
    "A simple error correcting code depends on repeating the symbol and taking the majority value, if there are inconsistencies among the copies. For a simple one bit of symbol and 3 bits of code, the only two valid codes are `0x0` and `0x7`. The remining 6 codes are invalid. \n",
    "\n",
    "The Hamming code is an error correcting code. Given to register values, the _Hamming distance_ between the values is the number of bits on which they disagree. \n",
    "\n",
    "For each invalid code, it is closer to one of `0x0` or `0x7` then the other, in the Hamming distance. Error correct by replacing the invalid code with the closer of the two codes.\n",
    "\n"
   ]
  },
  {
   "cell_type": "code",
   "execution_count": 192,
   "id": "acb71309",
   "metadata": {},
   "outputs": [
    {
     "name": "stdout",
     "output_type": "stream",
     "text": [
      "Writing repetition-code-3.c\n"
     ]
    }
   ],
   "source": [
    "%%file repetition-code-3.c\n",
    "#include<stdio.h>\n",
    "#include<stdlib.h>\n",
    "\n",
    "char repetiton_check(char c) {\n",
    "    int mask = 0x01 ;\n",
    "    int bit_number ;\n",
    "    int parity = 0 ;\n",
    "    for (bit_number=0;bit_number<8;bit_number++) {\n",
    "        if (c&mask) parity++ ;\n",
    "        mask <<= 1 ;\n",
    "    }\n",
    "    c = (parity>1)? 0x7 : 0x0 ;\n",
    "    return c ;\n",
    "}\n",
    "\n",
    "int main(int argc, char * argv[]) {\n",
    "    unsigned char uc = (unsigned char) atoi(argv[1]) ;\n",
    "    unsigned char uc_chk ;\n",
    "    uc_chk = repetiton_check(uc) ;\n",
    "    printf(\"0x%02x: 0x%02x\\n\", (int) uc, (int) uc_chk ) ;\n",
    "    return 0 ;\n",
    "}"
   ]
  },
  {
   "cell_type": "code",
   "execution_count": 193,
   "id": "676f9c9f",
   "metadata": {},
   "outputs": [
    {
     "name": "stdout",
     "output_type": "stream",
     "text": [
      "code  parity\n",
      "------------\n",
      "0x00: 0x00\n",
      "0x01: 0x00\n",
      "0x02: 0x00\n",
      "0x03: 0x07\n",
      "0x04: 0x00\n",
      "0x05: 0x07\n",
      "0x06: 0x07\n",
      "0x07: 0x07\n"
     ]
    }
   ],
   "source": [
    "program = \"repetition-code-3\"\n",
    "!cc -o {program} {program}.c\n",
    "print(\"code  parity\")\n",
    "print(\"------------\")\n",
    "for test_value in range(8):\n",
    "    !./{program} {test_value}\n",
    "!rm {program}.c {program}"
   ]
  },
  {
   "cell_type": "markdown",
   "id": "e4e0ae6e",
   "metadata": {},
   "source": [
    "#### <a name=hamming>Hamming code</a>\n",
    "\n",
    "\n",
    "The repetition code works to error correct, but its _code rate_ is very slow. Every 3 bits only communicates 1 bit of information, so it is a $(3,1)$ code. Codes exist with more favorable code rates. The Hamming code is a $(7,4)$ code, for every 7 bits contains 4 bits of information. The remaining 3 bits are parity bits and support the error correction.\n",
    "\n",
    "The magic of this is that given any two valid code points, the Hamming distance is at least 3. Hence for any invalid code point there is exactly one valid point at Hamming distance of 1 from it. Otherwise said, either a code point is valid, or there there is one and only one bit to flip in the invalid point to make it valid. It is assumed that the error was the flip of this bit. We correct and move on.\n",
    "\n",
    "And here is an image of how this is done,\n",
    "\n",
    "<pre>\n",
    "             (2)\n",
    "              |\n",
    "       (3)---[P]---(6)\n",
    "        |   / | \\   |\n",
    "        |  /  |  \\  |\n",
    "        | /   |   \\ |\n",
    "        |/    |    \\|\n",
    " (1)---[P]---(7)---[P]---(4)\n",
    "         \\         /\n",
    "          \\       /\n",
    "           \\     /\n",
    "            \\   /\n",
    "             (5)\n",
    "</pre>\n",
    "Here is how to work this diagram. There are 7 bits, numbered 1 through 7, and they are represented by the parenthesized numbers, such as `(7)`. The brackets `[P]` connect to these bits in various combinations. The bits should be set so that each of these combinations has even parity.\n",
    "\n",
    "Write the 4 bits you want to transmit into the bits 3, 5, 6 and 7. Now set bits 1, 2 and 4 so that the any P is surrounded by an even number of 1's. This is the correct code word.\n",
    "\n",
    "__Error correction:__ Write the 7 bits into the locations 1 through 7. If all the P nodes are surrounded by an even number of 1's, the code word is correct. Else the pattern of violations of this can be resolved by the flipping of exactly one of the bits 1 through 7. Flip this and you have corrected the error.\n",
    "\n",
    "It is obvious that there is always a bit to flip to fix the parities, and only one such bit, because each and every of the subsets of the the parity boxes has a specific bit number that touches exactly that subset.\n",
    "\n",
    "- Bits 1, 2 and 4 touch only one parity bit. Note that the binary represention of the bit number has exactly one bit set.\n",
    "- Bits 3, 6 and 5 touch all ways to take pairs of parity bits. Note that the binary representation of the bit number has exactly two bits set.\n",
    "- Bit 7 touches the full set of three parity bits. Note that 7 in binary has three bits set.\n",
    "\n",
    "The alignment is made so that if there is a parity error, it is in bit,\n",
    "\n",
    "$$\n",
    "b = \\oplus_{b_i==1} [i]_b\n",
    "$$\n",
    "\n",
    "where $[i]_b$ is the binary representation of integer $i$. If there is no error, $b=0$.\n",
    "\n",
    "\n",
    "\n"
   ]
  },
  {
   "cell_type": "code",
   "execution_count": 194,
   "id": "73a471e6",
   "metadata": {},
   "outputs": [
    {
     "name": "stdout",
     "output_type": "stream",
     "text": [
      "Writing hamming-7-4.c\n"
     ]
    }
   ],
   "source": [
    "%%file hamming-7-4.c\n",
    "#include<stdio.h>\n",
    "#include<stdlib.h>\n",
    "#include<assert.h>\n",
    "\n",
    "unsigned char hamming_check(char c) {\n",
    "    int mask = 0x01 ;\n",
    "    int bit_number ;\n",
    "    int parity = 0 ;\n",
    "    for (bit_number=0;bit_number<7;bit_number++) {\n",
    "        if (c&mask) parity ^= (bit_number+1) ;\n",
    "        mask <<= 1 ;\n",
    "    }\n",
    "    return parity ;\n",
    "}\n",
    "\n",
    "unsigned char hamming_encode(char m) {\n",
    "    char code = 0 ;\n",
    "    int i, j ;\n",
    "    int parity ;\n",
    "     \n",
    "    for (i=0;i<4;i++) {\n",
    "        int place[] = {0x04,0x10,0x20,0x40} ;\n",
    "        j = 0x01<<i ;\n",
    "        if (m&j) code |= place[i] ;\n",
    "    }\n",
    "    parity = hamming_check(code) ;\n",
    "    for (i=0;i<3;i++) {\n",
    "        int place[] = {0x01, 0x02, 0x08} ;\n",
    "        j = 0x01<<i ;\n",
    "        if (parity&j) {\n",
    "            code |= place[i] ;\n",
    "        }\n",
    "    }\n",
    "    assert(!hamming_check(code)) ;\n",
    " \n",
    "    return code ;\n",
    "}\n",
    "\n",
    "int main(int argc, char * argv[]) {\n",
    "    unsigned char uc = (unsigned char) atoi(argv[1]) ;\n",
    "    unsigned char uc_chk, uc_code ;\n",
    "    uc_code = hamming_encode(uc) ;\n",
    "    printf(\"0x%02x: 0x%02x\\n\", (int) uc, (int) uc_code ) ;\n",
    "    return 0 ;\n",
    "}"
   ]
  },
  {
   "cell_type": "code",
   "execution_count": 195,
   "id": "4c9a0052",
   "metadata": {},
   "outputs": [
    {
     "name": "stdout",
     "output_type": "stream",
     "text": [
      "data  code\n",
      "----------\n",
      "0x00: 0x00\n",
      "0x01: 0x07\n",
      "0x02: 0x19\n",
      "0x03: 0x1e\n",
      "0x04: 0x2a\n",
      "0x05: 0x2d\n",
      "0x06: 0x33\n",
      "0x07: 0x34\n",
      "0x08: 0x4b\n",
      "0x09: 0x4c\n",
      "0x0a: 0x52\n",
      "0x0b: 0x55\n",
      "0x0c: 0x61\n",
      "0x0d: 0x66\n",
      "0x0e: 0x78\n",
      "0x0f: 0x7f\n"
     ]
    }
   ],
   "source": [
    "program = \"hamming-7-4\"\n",
    "!cc -o {program} {program}.c\n",
    "print(\"data  code\")\n",
    "print(\"----------\")\n",
    "for test_value in range(16):\n",
    "    !./{program} {test_value}\n",
    "!rm {program}.c {program}"
   ]
  },
  {
   "cell_type": "markdown",
   "id": "047a1a9e",
   "metadata": {},
   "source": [
    "#### <a name=correction>Extended Discussion</a>\n",
    "\n",
    "The $(7,4)$ Hamming is one member of the Hamming code family. For every $k$ there is a $(2^k-1,2^k-k-1)$ Hamming code. The way they are built are but extension of the $(7,4)$. For $k$, write $k$ partity boxes and assign a bit to every non-empty subset of the set of parity boxes. This would be $2^k-1$ bits. Write the data into the bits that are not parity, and correct by the setting of the parity boxes. The number of data bits is $2^k-1-k$. \n",
    "\n",
    "\n",
    "__Exercise:__ Write code for the $(15,11)$ Hamming code.\n",
    "\n",
    "If we put $k=2$, we have the $(3,1)$ hamming code. This is the repetition code we talk about above. It\n",
    "has graph as follows,\n",
    "<pre>\n",
    "(3,1): (1)--[P]--(3)--[P]--(2)\n",
    "</pre>"
   ]
  },
  {
   "cell_type": "markdown",
   "id": "de0e7348",
   "metadata": {},
   "source": [
    "### Base 64 "
   ]
  },
  {
   "cell_type": "code",
   "execution_count": 198,
   "id": "e8825e65",
   "metadata": {},
   "outputs": [
    {
     "name": "stdout",
     "output_type": "stream",
     "text": [
      "['000', '001', '010', '011', '100', '101', '110', '111']\n"
     ]
    }
   ],
   "source": [
    "#\n",
    "# a python program to ennumerate all the bit sequence on i bits\n",
    "# it uses recursion to create a list for i-1 bits, then adds one more \n",
    "# bit.\n",
    "#\n",
    "\n",
    "def ennumerate_zero_one_patterns(i):\n",
    "    \n",
    "    def ennumerate_zero_one_patterns_aux(i):\n",
    "        if i==1:\n",
    "            return ['0','1']\n",
    "        l = ennumerate_zero_one_patterns_aux(i-1)\n",
    "        r = l[:]\n",
    "        for i in range(len(l)):\n",
    "            r[i] = '1'+l[i]\n",
    "            l[i] = '0'+l[i]\n",
    "        return l+r\n",
    "    \n",
    "    assert i>0, 'input must be greater than one'\n",
    "    return ennumerate_zero_one_patterns_aux(i)\n",
    "    \n",
    "print(ennumerate_zero_one_patterns(3))"
   ]
  },
  {
   "cell_type": "markdown",
   "id": "ba100765",
   "metadata": {},
   "source": [
    "\n",
    "###  <a name=intrepr>Representations of integers</a>\n",
    "\n",
    "\n",
    "The bit patterns can also be associated with positive integers by the formula,\n",
    "\n",
    "$$\n",
    "\\mathcal{N}(b_l, b_{l-1}, \\ldots, b_0) = \\sum_i 2^i b_i\n",
    "$$\n",
    "\n",
    "That is, write $n$ in binary, and make a sequence out of the bits in the representation.\n",
    "\n"
   ]
  },
  {
   "cell_type": "code",
   "execution_count": 199,
   "id": "fa65f562",
   "metadata": {},
   "outputs": [
    {
     "name": "stdout",
     "output_type": "stream",
     "text": [
      "Overwriting string-to-int.c\n"
     ]
    }
   ],
   "source": [
    "%%file string-to-int.c\n",
    "\n",
    "#include<stdio.h>\n",
    "#include<string.h>\n",
    "\n",
    "int main(int argc, char * argv[]){\n",
    "    int i ;\n",
    "    int sum = 0 ;\n",
    "    int two_to_the_i = 1 ;\n",
    "    char * s = argv[1] ; \n",
    "    printf(\"%s\\t\", s) ;\n",
    "    \n",
    "    for (i=strlen(s);i>0;i--){\n",
    "        if (s[i-1]=='1') {\n",
    "            sum = sum + two_to_the_i ;\n",
    "        }\n",
    "        two_to_the_i = 2 * two_to_the_i ;\n",
    "    }\n",
    "    \n",
    "    printf(\"%d\\n\", sum) ;\n",
    "    return 0 ;\n",
    "}"
   ]
  },
  {
   "cell_type": "code",
   "execution_count": 200,
   "id": "05af6883",
   "metadata": {},
   "outputs": [
    {
     "name": "stdout",
     "output_type": "stream",
     "text": [
      "000\t0\n",
      "001\t1\n",
      "010\t2\n",
      "011\t3\n",
      "100\t4\n",
      "101\t5\n",
      "110\t6\n",
      "111\t7\n"
     ]
    }
   ],
   "source": [
    "!cc -o string-to-int string-to-int.c\n",
    "int_representations = ennumerate_zero_one_patterns(3)\n",
    "for a_representation in int_representations:\n",
    "    !./string-to-int {a_representation}\n",
    "!rm string-to-int"
   ]
  },
  {
   "cell_type": "markdown",
   "id": "c862d033",
   "metadata": {},
   "source": [
    "#### The int and long int datatypes\n",
    "\n",
    "\n",
    "\n",
    "We have shown that the computer can represent integers in binary, and have discussed so far only bytes. Since bytes have only 256 bit patterns, they can only store a small range of integers. So far we have shown how it can store the integers 0 through 255. There are two deficiencies,\n",
    "\n",
    "- We must be able to store much larger intergers\n",
    "- We must be able to represent both positive and negative integers.\n",
    "\n",
    "C Language has two data types for integers, _signed_ and _unsigned_. The type _unsigned char_ is one byte and the various bit patterns are used to represent the integers 0 through 255, using the obvious binary representation. \n",
    "\n",
    "We set aside for now the representation of negative numbers, and address that we would like a much larger range of positive numbers represented.\n",
    "\n",
    "To store larger numbers the computer will use more bytes, and will collect them so that they have consecutive adresses in the RAM. This way, the location of the integer remains a single address. The number of bytes is known because the reference has a type that includes the number of bytes. \n",
    "\n",
    "<div style=\"float:right;margin:2em;\">\n",
    "<img width=\"512\" src=\"../images/TCPL-1ed-bytesize.png\"></a>\n",
    "</div>\n",
    "\n",
    "It is a fact that C Language did not lay down the law about the number of bytes for each integer datatype, except that a char is one byte, and \"larger\" data types should have more bytes. However, 32 bits is the standard integer, with type names `int` and `unsigned int`. The image is from TCPL first edition, where they give the number of bits in the various integer and byte types of computers of that time.\n",
    "\n",
    "There were then two variants of `int`, the `short int` and the `long int`. The actual number of bytes is not defined in the C Language, except that a short int cannot be longer than an int, and a long int cannot be shorter than an int. Let's say for normality that a short is 16 bits and a long is 64 bits. Beware though, this will depend on the computer and the compiler.\n",
    "\n",
    "The builtin operator `sizeof` gives the number of bytes of the object mentioned as its argument. The argument can be a data type or a variable. Although `sizeof` looks like a function call, it is not. If it were a function call, we would have to wait until the prgram ran before the value of `sizeof` is known. It is already known at compile time.\n"
   ]
  },
  {
   "cell_type": "code",
   "execution_count": null,
   "id": "a61c947f",
   "metadata": {},
   "outputs": [],
   "source": [
    "%%file sizeof-wow.c\n",
    "\n",
    "#include<stdio.h>\n",
    "\n",
    "int main(int argc, char * argv[]) {\n",
    "    printf(\"type:\\tbytes\\n\") ;\n",
    "    printf(\"char:\\t%lu\\n\", sizeof(char)) ;\n",
    "    printf(\"short:\\t%lu\\n\", sizeof(short int)) ;\n",
    "    printf(\"int:\\t%lu\\n\",  sizeof(int)) ;\n",
    "    printf(\"long:\\t%lu\\n\",  sizeof(long int)) ;\n",
    "    return 0 ;\n",
    "}"
   ]
  },
  {
   "cell_type": "code",
   "execution_count": null,
   "id": "01310bdb",
   "metadata": {},
   "outputs": [],
   "source": [
    "%%bash\n",
    "cc -o sizeof-wow sizeof-wow.c\n",
    "./sizeof-wow\n",
    "rm sizeof-wow"
   ]
  },
  {
   "cell_type": "markdown",
   "id": "35f4ff50",
   "metadata": {},
   "source": [
    "### <a name=intmem>The memory layout of integers</a>\n",
    "\n",
    "We will learn something about computer architectures and something about the C programming language together.\n",
    "\n",
    "We have described how an integer is stored in a computer using multiple bytes, and for the convenience of the hardware those bytes will be in consecutive locations in the memory. They will also be at memory locations, when the index is considered as a integer, the multiple of the data type size. We will demonstrated this, but with a little hackery.\n",
    "\n",
    "We have also said that the memory unit consists of an array of bytes, each with an index, in fact, an integer. In many C language situations, we can actualize this. \n",
    "\n",
    "Given a memory item, say the integer `int i`, as a 32-bit integer is occupies four addresses in memory, say $m, m+1, m+2, m+3$. The notation `&i` gives a _pointer_ to `i`, which is an abstract memory reference, which in this case would be of type _pointer to an int_, or in C notation `int *` (said \"int-star\").\n",
    "\n",
    "It is a grave error to confuse a memory pointer with an integer, the \"location\" of the byte or the starting location of bytes, with a pointer. But we will do just that, by coercing the pointer to an _unsigned long int_. We need it to be unsigned, as there are no negative indexed locations in memory, and long, as most computers now are said to be 64-bit machines, meaning that their potential memory space is $2^{64}$ locations. Now no computer today actualizes this, but it actualizes some amount of that space.\n",
    "\n",
    "\n",
    "#### C arrays\n",
    "\n",
    "To look at the memory for a single integer type data item, be it short, int or long, we will consider an _array_ of integers. This is a sequence of several data items identified with the name of the array and an integer indicating whether we are considering the zeroth, first, second, third, etc, item along the array of items. C lays these out sequentially in memory so that the $i$-th element is easy to find from the location of the zero-th element and the size (number of bytes) for each element.\n",
    "\n",
    "It packs these in tightly. So if we define a two element array of int, the integer address of the zero-th element and that of the first element should be separated by the `sizeof` of the element. "
   ]
  },
  {
   "cell_type": "code",
   "execution_count": null,
   "id": "ba4e3ace",
   "metadata": {},
   "outputs": [],
   "source": [
    "%%file sizeof-ints.c\n",
    "\n",
    "#include<stdio.h>\n",
    "int main(int argc, char * argv[]) {\n",
    "    short s[2] ;\n",
    "    int i[2] ;\n",
    "    long l[2] ;\n",
    "    \n",
    "    printf(\"s[0] @ %lu\\ns[1] @ %lu\\n\", (unsigned long) &s[0], (unsigned long) &s[1] ) ;\n",
    "    printf(\"i[0] @ %lu\\ni[1] @ %lu\\n\", (unsigned long) &i[0], (unsigned long) &i[1] ) ;\n",
    "    printf(\"l[0] @ %lu\\nl[1] @ %lu\\n\", (unsigned long) &l[0], (unsigned long) &l[1] ) ;\n",
    "\n",
    "    return 0 ;\n",
    "}\n"
   ]
  },
  {
   "cell_type": "code",
   "execution_count": null,
   "id": "301877c5",
   "metadata": {},
   "outputs": [],
   "source": [
    "\n",
    "%%bash\n",
    "cc -o sizeof-ints sizeof-ints.c\n",
    "./sizeof-ints\n",
    "rm sizeof-ints"
   ]
  },
  {
   "cell_type": "markdown",
   "id": "27c6d743",
   "metadata": {},
   "source": []
  },
  {
   "cell_type": "code",
   "execution_count": null,
   "id": "e1504ad2",
   "metadata": {},
   "outputs": [],
   "source": []
  },
  {
   "cell_type": "code",
   "execution_count": null,
   "id": "c834fb86",
   "metadata": {},
   "outputs": [],
   "source": []
  },
  {
   "cell_type": "code",
   "execution_count": null,
   "id": "d9081619",
   "metadata": {},
   "outputs": [],
   "source": []
  }
 ],
 "metadata": {
  "kernelspec": {
   "display_name": "Python 3 (ipykernel)",
   "language": "python",
   "name": "python3"
  },
  "language_info": {
   "codemirror_mode": {
    "name": "ipython",
    "version": 3
   },
   "file_extension": ".py",
   "mimetype": "text/x-python",
   "name": "python",
   "nbconvert_exporter": "python",
   "pygments_lexer": "ipython3",
   "version": "3.9.7"
  }
 },
 "nbformat": 4,
 "nbformat_minor": 5
}
