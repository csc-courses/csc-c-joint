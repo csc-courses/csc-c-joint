{
 "cells": [
  {
   "cell_type": "markdown",
   "id": "b5b0d260",
   "metadata": {},
   "source": [
    "## Basic Computer Architecture\n",
    "\n",
    "\n",
    "_burton rosenberg, 23 june 2023_\n",
    "\n",
    "\n",
    "### Table of contents.\n",
    "\n",
    "1. <a href=\"#intro\">Introduction</a>\n",
    "1. <a href=\"#caveats\">Caveats</a>\n",
    "\n"
   ]
  },
  {
   "cell_type": "markdown",
   "id": "ab753c94",
   "metadata": {},
   "source": [
    "\n",
    "<div style=\"float:right;margin:2em;width:450px;border:1px solid green;padding:1em;\">\n",
    "<a title=\"MCS-80/85 Family User's Manual, Intel, October 1979\" href=\"https://archive.org/details/Mcs80_85FamilyUsersManual/\">\n",
    "<img src=\"https://github.com/csc-courses/csc-c-joint/blob/main/images/databuses_8085.png\">\n",
    "<br>MCS-80/85 Family User's Manual, Intel, October 1979.\n",
    "</a>\n",
    "</div>\n",
    "\n",
    "<div style=\"float:right;margin:2em;width:450px;border:1px solid green;padding:1em;\">\n",
    "<a title=\"MCS-80/85 Family User's Manual, Intel, October 1979\" href=\"https://archive.org/details/Mcs80_85FamilyUsersManual/\">\n",
    "<img src=\"https://github.com/csc-courses/csc-c-joint/blob/main/images/8085-cpu-block-diagram.png\">\n",
    "<br>MCS-80/85 Family User's Manual, Intel, October 1979.\n",
    "</a>\n",
    "</div>"
   ]
  },
  {
   "cell_type": "code",
   "execution_count": null,
   "id": "1e135821",
   "metadata": {},
   "outputs": [],
   "source": []
  }
 ],
 "metadata": {
  "kernelspec": {
   "display_name": "Python 3 (ipykernel)",
   "language": "python",
   "name": "python3"
  },
  "language_info": {
   "codemirror_mode": {
    "name": "ipython",
    "version": 3
   },
   "file_extension": ".py",
   "mimetype": "text/x-python",
   "name": "python",
   "nbconvert_exporter": "python",
   "pygments_lexer": "ipython3",
   "version": "3.9.7"
  }
 },
 "nbformat": 4,
 "nbformat_minor": 5
}
