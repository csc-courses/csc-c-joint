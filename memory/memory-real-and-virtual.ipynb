{
 "cells": [
  {
   "cell_type": "markdown",
   "id": "663116ae",
   "metadata": {},
   "source": [
    "## Memory: Real and Virtual\n",
    "\n",
    "\n",
    "_burton rosenberg, 29 june 2023_\n",
    "\n",
    "\n",
    "### Table of contents.\n",
    "\n",
    "1. <a href=\"#intro\">Introduction</a>\n",
    "1. <a href=\"#byte\">What is a byte?</a>\n",
    "1. <a href=\"#intrepr\">Representations of Integers</a>\n",
    "1. <a href=\"#intmem\">The memory layout of integers</a>\n"
   ]
  },
  {
   "cell_type": "markdown",
   "id": "68ac4a16",
   "metadata": {},
   "source": [
    "A program operates on data objects such as integers, floating point numbbers and strings. Programming languages vary in how abstracted these objects are from their underlying construction. Ultimately, all data objects are built out of _bytes_. Each byte is a storage location for 8 bits. These bytes are stored in RAM, named for their ability to read and write the bytes arbitrarily, given the byte's address.\n",
    "\n",
    "C language adopts a memory model which is abstract enough for the usualy data objects to be used efficiently and platform independently, but can also treat the RAM memory in a raw manner as an array of bytes. A data location is given by a C type called a _pointer_. The pointer as some integer like properties. It can be added to, allowing for the reference of a sequence of memory elements. Pointers can be compared for size in a way that is compatible with addition. On some platforms the pointer can be printed and will look like an integer expressed in hexidecimal notation.\n",
    "\n",
    "Pointers however have types according to their purpose. A pointer to an integer addresses a sequence of bytes, the number of bytes according to the precision of the number. A typical integer is 32 bits, hence the pointer refers to 4 bytes.\n",
    "\n",
    "C language has defined the type `char` to be one byte. Hence a pointer to char provides our method to access the RAM natively. Operating systems are written in C language because of C language's ability to do this.\n",
    "\n",
    "### Pointer notation\n",
    "\n",
    "The notation for pointers is based on how the pointer will be used. The declaration of to integer, with name `p`, is `int *p`. This mean that the expression `*p` is of type `int`. The number of bytes in the data type `int` is returned by the C operator `sizeof`. This operator looks like a function call, but it is not a function, it is an operator. For 32 bit integers, `sizeof(int)` will return 4. Then `p+1` will return a location 4 larger than that of `p`. \n",
    "\n",
    "With `p` of type `int *`, so is `p+i` for integer `i`. Hence `*(p+i)` is type `int`. So this is retrieval or storage for the i-th element in a sequence of `int`'s, where the 0-th `int` is located at location `p`. C makes a more obvious notation for this as `a[i]`. So `a` is of type `int *`, as well as being an array.\n",
    "\n",
    "Pointer notation can seem difficult, but it is always a picture of how the data will be used. A common situation is to have an array of strings. A string is an array of bytes with a special end of string character in the last byte. If this array name is `a`, the `a[i]` should be a pointer to char. Hence `*(*(a+i)+j)` would be the j-th letter of the i-th string. Overall, `a` can be declared as either `char ** a` or `char * a[]`.\n",
    "\n",
    "\n"
   ]
  },
  {
   "cell_type": "code",
   "execution_count": null,
   "id": "ccf354b2",
   "metadata": {},
   "outputs": [],
   "source": []
  },
  {
   "cell_type": "code",
   "execution_count": 1,
   "id": "7a53a50e",
   "metadata": {},
   "outputs": [
    {
     "name": "stdout",
     "output_type": "stream",
     "text": [
      "Writing test.c\n"
     ]
    }
   ],
   "source": [
    "%%file test.c\n",
    "\n",
    "int main(int argc, char * argv[]) {\n",
    "    \n",
    "    return 0 ;\n",
    "}"
   ]
  },
  {
   "cell_type": "code",
   "execution_count": null,
   "id": "dd51dfbb",
   "metadata": {},
   "outputs": [],
   "source": []
  }
 ],
 "metadata": {
  "kernelspec": {
   "display_name": "Python 3 (ipykernel)",
   "language": "python",
   "name": "python3"
  },
  "language_info": {
   "codemirror_mode": {
    "name": "ipython",
    "version": 3
   },
   "file_extension": ".py",
   "mimetype": "text/x-python",
   "name": "python",
   "nbconvert_exporter": "python",
   "pygments_lexer": "ipython3",
   "version": "3.9.7"
  }
 },
 "nbformat": 4,
 "nbformat_minor": 5
}
