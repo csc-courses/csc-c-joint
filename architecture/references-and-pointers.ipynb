{
 "cells": [
  {
   "cell_type": "markdown",
   "id": "6d2969ac",
   "metadata": {},
   "source": [
    "## References, Pointers and RAM memory\n",
    "\n",
    "\n",
    "_burton rosenberg, 23 june 2023_\n",
    "\n",
    "\n",
    "### Table of contents.\n",
    "\n",
    "1. <a href=\"#intro\">Sizeof</a>\n",
    "1. <a href=\"#pointers\">Pointers</a>\n",
    "1. <a href=#arrays>Arrays</a>\n",
    "1. <a href=\"#caveats\">Caveats</a>\n",
    "\n"
   ]
  },
  {
   "cell_type": "markdown",
   "id": "f292703a",
   "metadata": {},
   "source": [
    "\n",
    "### <a name=intro>Sizeof</a>\n",
    "\n",
    "We have looked at the architecture of the Intel 8085 processor, in my opinion, the must influential microprocessor design ever. We look at this microprocessor because it is simple enough to be documented in a few pages. There are a few new concepts that the 8085 did not have, notable protection and virtual memory, but it is pretty much exactly the computer we compute on today.\n",
    "\n",
    "<div style=\"float:right;margin:2em;width:450px;border:1px solid green;padding:1em;\">\n",
    "<a title=\"MCS-80/85 Family User's Manual, Intel, October 1979\" href=\"https://archive.org/details/Mcs80_85FamilyUsersManual/\">\n",
    "<img src=\"databuses_8085.png\">\n",
    "<br>MCS-80/85 Family User's Manual, Intel, October 1979.\n",
    "</a>\n",
    "</div>\n",
    "\n",
    "\n",
    "We had mentioned that a basic computer had four components,\n",
    "\n",
    "- The CPU, containing instruction sequence and decode, registers and and ALU for instruction executoin,\n",
    "- A RAM memory, an integer addressible array of 8-bit bytes.\n",
    "- An I/O system, which is quite various in its functionality and implementation\n",
    "- And a bus to connect these three components.\n",
    "\n",
    "This diagram from the MCS80/80 Family User's Manual helpfully shows us that the bus will have a channel for addresses, a channel for data, and a channel for control. \n",
    "\n",
    "C Language provides an almost direct contact with the RAM. Advanced languages such as Java and Python do not, and in fact attempt to hide the RAM through abstractions. Helpfully we will use C to understand RAM.\n",
    "\n",
    "The architecture view of RAM is an array of integer addressible bytes, which almost certainly are 8-bits long. The byte aligns with the C languge type `char`. Both hardware and software collect up bytes with consecutive addresses to form data types that require multiple bytes. Most C compilers now support,\n",
    "\n",
    "- The 2 byte short integer, 16 bits.\n",
    "- The 4 byte integger, 32 bits.\n",
    "- The 8 byte long integer, 64 bits.\n",
    "\n",
    "The C operator `sizeof` will return the number of bytes in a type. Let us check this machine for the length of its data types. The C Language requires that a char is one byte.\n",
    "\n"
   ]
  },
  {
   "cell_type": "code",
   "execution_count": 1,
   "id": "2125d6cb",
   "metadata": {},
   "outputs": [
    {
     "name": "stdout",
     "output_type": "stream",
     "text": [
      "Writing check_int_lengths.c\n"
     ]
    }
   ],
   "source": [
    "%%file check_int_lengths.c\n",
    "#include<stdio.h>\n",
    "\n",
    "int main(int argc, char * argv[]) {\n",
    "    \n",
    "    printf(\"a char is %lu byte\\na short int is %lu bytes\\nan int is %lu bytes\\na long int is %lu bytes\\n\",\n",
    "          sizeof(char), sizeof(short int), sizeof(int), sizeof(long int)) ;\n",
    "    return 0 ;\n",
    "}"
   ]
  },
  {
   "cell_type": "code",
   "execution_count": 2,
   "id": "48f912f4",
   "metadata": {},
   "outputs": [
    {
     "name": "stdout",
     "output_type": "stream",
     "text": [
      "a char is 1 byte\n",
      "a short int is 2 bytes\n",
      "an int is 4 bytes\n",
      "a long int is 8 bytes\n"
     ]
    }
   ],
   "source": [
    "%%bash\n",
    "S=check_int_lengths\n",
    "cc -o $S $S.c\n",
    "./$S\n",
    "rm $S.c $S"
   ]
  },
  {
   "cell_type": "markdown",
   "id": "94bf7564",
   "metadata": {},
   "source": [
    "### <a name=pointers>Pointers</a>\n",
    "\n",
    "For a variable declaration such as `int i`, memory is set aside for the storage of the 4 byte integer `i`, and the compiler maintains a table binding the name `i` to a memory reference. The variable can appear in one or two contexts,\n",
    "\n",
    "- If the variable appears in an expressing, the context is called an _R-value_, becaues this happens when the variable is on the left hand side of the assignment operator. The compiler writes machine code to retreive a value from the memory reference.\n",
    "- If the variable appears in a context where it will be assigned into, the context is called an _L-value_, because this happens when the variable is on the left hand side of the assignment operator. The compiler writes machine code to store a value at the memory reference.\n",
    "\n",
    "In these cases, the details of the memory reference are completely hidden from the programmer. The compiler has successfully abstracted away all the memory details into a name.\n",
    "\n",
    "However, other situations require that the programmer have possession of a memory reference, and orchestrate the use of the reference to retrieve and store at the target of the memory reference. The reference is of type _pointer_, and the use of C pointers is fun but tricky.\n",
    "\n",
    "The C pointer can give us access to memory that is very similar to the physical RAM device that implements the memory. It is a bit dangerous to use a pointer as if it were an integer address. There are both hardware and software reasons why this cannot be exactly true. To have truely platform independent code one should understand that C has taken a middle path of maintaining some abstraction in the pointer data type while exposing as much as possible the hardware aspect of the RAM.\n",
    "\n",
    "- The first thing to know is that a pointer has a type, and the thing it refences has a type. So a pointer is a pointer to an integer, or a pointer to a char, or a pointer to a pointer to an integer. And so forth.\n",
    " - The second thing to know about a pointer is that the are declared with the `*` in a way that is a picture of how it will be used. So a pointer to int is declared `int * ip`. Therefore `* ip` is an`int`, and `ip` is a pointer to `int`.\n",
    " - And the last thing you should know about a pointer is they can be created from a variable by the `addresss of` operator `&`. For `int i`, then `&i` is an `int *`. And the reason why it is the __last__ thing you should know, is that the use of this operator, in my experience, is very rare and often a bad idea. A helpful fact is often `&` and `*` side by side will cancel each other out.\n",
    " \n",
    " \n",
    "#### Operations on pointers.\n",
    "\n",
    "There are some operations that can be performed on pointers, for use in expressions. The two most widely used are addition with an integer and comparison to the special _null pointer_, denoted `(void *) 0`.\n",
    "\n",
    "##### Addition\n",
    "\n",
    "Given a pointer `p` and an integer `i`, the expressions `p+i` and `i+p` are valid, The result is a pointer of the same type as `p`. How this looks in memory, is that the resulting pointer is a reference to the i-th item of the type that `p` points to, in a (possibly) boundless sequence of such items. \n",
    "\n",
    "##### Null pointer comparison\n",
    "\n",
    "Two pointers of the same type can be compared. Using `==` they can be compared for equality. If equal, they point to the same place in memory. They can also be compared for inequality, discovering which data elements appear in higher memory addresses and which in lower. The rules for this are complicated beyond this C introduction.\n",
    "\n",
    "There is a special pointer value, the _null pointer_, that is created as `(void *) 0`, however standard includes create the a macro NULL for this. A pointer can be compared for equally to the null pointer using `==`. \n",
    "\n",
    "#### Pointers as RAM\n",
    "\n",
    "Given the above, at least a portion of RAM can be modeled as `p+i` where `p` is of type `char *`. One can try to get a view of all of RAM by converting to the null pointer to a `char *`, but then you'd be a pirate. \n",
    "\n",
    "You are also a pirate if you covert pointers to `long` and use them as integer addresses to RAM.\n",
    "\n",
    "However, it is fun and instructive to be a pirate. \n"
   ]
  },
  {
   "cell_type": "code",
   "execution_count": 3,
   "id": "dc1df1e9",
   "metadata": {},
   "outputs": [
    {
     "name": "stdout",
     "output_type": "stream",
     "text": [
      "Writing pirate-pointers.c\n"
     ]
    }
   ],
   "source": [
    "%%file pirate-pointers.c\n",
    "#include<stdio.h>\n",
    "\n",
    "int main(int argc, char * argv[]){\n",
    "    long int l_i = 0x0023456789abcdef ;\n",
    "    char * p ;\n",
    "    p = (char *) &l_i ;\n",
    "    while (*p) {\n",
    "        printf(\"%x \", (0xff)&*p) ;\n",
    "        p = p + 1 ;\n",
    "    }\n",
    "    printf(\"%x \", (0xff)&*p) ;\n",
    "    return 0 ;\n",
    "    \n",
    "}"
   ]
  },
  {
   "cell_type": "code",
   "execution_count": 4,
   "id": "30b0df01",
   "metadata": {},
   "outputs": [
    {
     "name": "stdout",
     "output_type": "stream",
     "text": [
      "ef cd ab 89 67 45 23 0 "
     ]
    }
   ],
   "source": [
    "%%bash\n",
    "S=pirate-pointers\n",
    "cc -o $S $S.c\n",
    "./$S\n",
    "rm $S.c $S"
   ]
  },
  {
   "cell_type": "markdown",
   "id": "bec015eb",
   "metadata": {},
   "source": [
    "### <a name=arrays>Arrays</a>\n",
    "\n",
    "Given a pointer `p` and an integer `i` there is a short syntax for `*(p+i)`. It is `p[i]`, and `p` is then considered an array.\n",
    "\n",
    "C provides a bit more than this syntatic shortcut for the use of arrays. It allows a pointer to a type to be defined and memory sufficient for the array to be allocated with a single declaration, `int a[10]`, as an example. The result is an variable `a` of type `int *`, and the `10*sizeof(int)` bytes referenced assending from the reference `a` are set set aside by the compiler for use by the array.\n",
    "\n",
    "There is also an initalization syntax, for initialzing the array, see Harbison and Steele. One difference between the array `a` and the pointer to int `a`, is that `a` as an array cannot be assigned into. It is, in a sense, a constant pointer. \n",
    "\n",
    "For pointers within an array, they can be subtacted in such a way as consistent with `a[i]` being equal to `*(a+i)`. This gets a little tricky. While `a[i]-a[j]` subtracts the contents of the array at locations `i` and `j`, `(a+i)-(a+j)` subtracts two pointers and is equal to `i-j`. This is consistent with the array of bytes view of memory, except C is not all that free with memory references. There is a type and we are walking up and down in an array. In that case, we are incrementing as if memory references were integers."
   ]
  },
  {
   "cell_type": "code",
   "execution_count": 5,
   "id": "66b71c32",
   "metadata": {},
   "outputs": [
    {
     "name": "stdout",
     "output_type": "stream",
     "text": [
      "Writing more-pirate-pointers.c\n"
     ]
    }
   ],
   "source": [
    "%%file more-pirate-pointers.c\n",
    "#include<stdio.h>\n",
    "\n",
    "int main(int argc, char * argv[]){\n",
    "    int a[10] ;\n",
    "    int i ;\n",
    "    for (i=0;i<10;i++) *(a+i) = i ; // same as a[i] = i\n",
    "    printf(\"%d %ld\\n\", a[7]-a[4], (a+4)-(a+7)) ;\n",
    "    return 0 ;\n",
    "}"
   ]
  },
  {
   "cell_type": "code",
   "execution_count": 6,
   "id": "66b90b8a",
   "metadata": {},
   "outputs": [
    {
     "name": "stdout",
     "output_type": "stream",
     "text": [
      "3 -3\n"
     ]
    }
   ],
   "source": [
    "%%bash\n",
    "S=more-pirate-pointers\n",
    "cc -o $S $S.c\n",
    "./$S\n",
    "rm $S.c $S"
   ]
  },
  {
   "cell_type": "code",
   "execution_count": 7,
   "id": "b48bf28b",
   "metadata": {},
   "outputs": [
    {
     "name": "stdout",
     "output_type": "stream",
     "text": [
      "Writing null-pointer-demo.c\n"
     ]
    }
   ],
   "source": [
    "%%file null-pointer-demo.c\n",
    "#include<stdio.h>\n",
    "\n",
    "int main(int argc, char * argv[]){\n",
    "    char * s[5] = { \"hello\", \", \", \"world\", \"!\\n\", (void *) 0} ;\n",
    "    char ** s_p = s ;\n",
    "    while (*s_p) {\n",
    "        printf(\"%s\", *s_p) ;\n",
    "        s_p++ ;\n",
    "    }\n",
    "    return 0 ;\n",
    "}"
   ]
  },
  {
   "cell_type": "code",
   "execution_count": 8,
   "id": "30249675",
   "metadata": {},
   "outputs": [
    {
     "name": "stdout",
     "output_type": "stream",
     "text": [
      "hello, world!\n"
     ]
    }
   ],
   "source": [
    "%%bash\n",
    "S=null-pointer-demo\n",
    "cc -o $S $S.c\n",
    "./$S\n",
    "rm $S.c $S"
   ]
  },
  {
   "cell_type": "markdown",
   "id": "54186795",
   "metadata": {},
   "source": [
    "\n",
    "\n",
    "### <a name=caveats>Many caveats</a>\n",
    "\n",
    "The notion of an address being an integer glosses over many details. \n",
    "\n",
    "First off, there is a difference between address that the CPU and the programmer see and addresses that the bus and the RAM see. The former are _virtual addresses_ and the later are _physical addresses_.\n",
    "\n",
    "This is needed since many programs are running independently on the computer, making references to memory locations. Each must work in its own independent memory space, so they are not concerned if the address conflict across programs. This is accomplishes with a _virtual memory system_ that is implemented partially in hardware and partially by the operating systme in software. \n",
    "\n",
    "This is an advanced topic and we will refer to it only such as we have, in passing, so that you are aware. If you are interested, this is definitely a very interesting thing to learn about. Almost all computers now have virtual memory, however our Intel 8085 did not.\n",
    "\n",
    "Second, seeking efficiceny, the memory stores and fetches tend to be in \"buckets\" rather than bytes. Sort of like going grocery shopping, where one makes a list of all associated items for a single trip to the store, a memory store or fetch will carry a _cache line_ of bytes, which include the byte of interest, but include other bytes, on the assumption that they also will soon be needed.\n",
    "\n",
    "Thirdly, this bucketing is carried out on various levels, creating a level 1, level 2 and level cache. The idea of an integer addressible memory is not denied by these caches, but the notion that we are traveling to RAM with each memory request is. Data is batched even more than a cache line, to make sure that the slow process of accessing RAM is minimized when possible.\n",
    "\n",
    "Fourth, the Intel architecture is a _segmented memory_ scheme, in which memory is tagged with a few flavors, such as Data, Text, and Stack. A memory address is a pair, an integer for the segment, and a segment descriptor. This is complicated beyond words and specific to Intel. However, other architectures are free to make exotic memory structures such as segments. These complications are best hidden, not just for the purposes of teaching, but for the purposes of C code that works on all architectures without source code changes."
   ]
  },
  {
   "cell_type": "code",
   "execution_count": null,
   "id": "4bd3148c",
   "metadata": {},
   "outputs": [],
   "source": []
  }
 ],
 "metadata": {
  "kernelspec": {
   "display_name": "Python 3 (ipykernel)",
   "language": "python",
   "name": "python3"
  },
  "language_info": {
   "codemirror_mode": {
    "name": "ipython",
    "version": 3
   },
   "file_extension": ".py",
   "mimetype": "text/x-python",
   "name": "python",
   "nbconvert_exporter": "python",
   "pygments_lexer": "ipython3",
   "version": "3.9.7"
  }
 },
 "nbformat": 4,
 "nbformat_minor": 5
}
