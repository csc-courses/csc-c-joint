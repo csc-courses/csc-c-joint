{
 "cells": [
  {
   "cell_type": "markdown",
   "id": "08077473",
   "metadata": {},
   "source": [
    "## Character Representation\n",
    "\n",
    "_burton rosenberg, 24 june 2023_\n",
    "\n",
    "### Table of Contents\n",
    "\n",
    "- []\n",
    "\n",
    "### Representations of characters\n",
    "\n",
    "<div style=\"float:right;margin:2em;\">\n",
    "<a title=\"an unknown officer or employee of the United States Government, Public domain, via Wikimedia Commons\" href=\"https://commons.wikimedia.org/wiki/File:USASCII_code_chart.png\"><img width=\"512\" alt=\"USASCII code chart\" src=\"https://upload.wikimedia.org/wikipedia/commons/thumb/c/cf/USASCII_code_chart.png/512px-USASCII_code_chart.png\"></a>\n",
    "</div>\n",
    "\n",
    "The 8 bit byte proved useful for storing the characters of the alphabet, with numerical digits, punctuation, and then some, including very important control characters such as new line, end of transmission, delete and break. As a part of the historical accident, the characters considered were,\n",
    "\n",
    "- the 26 unaccented letters of the latin alphabeta, including minisule and majiscule\n",
    "- the 10 digits\n",
    "- a character representing a single spacing element, called the space or blank\n",
    "- all common punctuation including the period, comma, parenthesis, question and exclamation marks, and so one,\n",
    "- and control characters there were sort of \"meta\" in that they talked about the text rather than being in the text, such as a newline, or a delete.\n",
    "\n",
    "The assignment of bit patterns to characters was the ASCII standard.\n",
    "\n"
   ]
  },
  {
   "cell_type": "code",
   "execution_count": 3,
   "id": "5149fe00",
   "metadata": {},
   "outputs": [
    {
     "name": "stdout",
     "output_type": "stream",
     "text": [
      "Overwriting hello-chars.c\n"
     ]
    }
   ],
   "source": [
    "%%file hello-chars.c\n",
    "\n",
    "#include<stdio.h>\n",
    "#include<string.h>\n",
    "\n",
    "int main(int argc, char * argv[]){\n",
    "    int i ;\n",
    "    char hello[] = {104, 101, 108, 108, 111, 32, 119, 111, 114, 108, 100, 33, 10} ;\n",
    "    int n = sizeof(hello) ;\n",
    "    \n",
    "    for (i=0;i<n;i++){\n",
    "        printf(\"%c\", hello[i]) ;\n",
    "    }\n",
    "\n",
    "    return 0 ;\n",
    "}"
   ]
  },
  {
   "cell_type": "code",
   "execution_count": 4,
   "id": "da95e54e",
   "metadata": {},
   "outputs": [
    {
     "name": "stdout",
     "output_type": "stream",
     "text": [
      "hello world!\n"
     ]
    }
   ],
   "source": [
    "%%bash\n",
    "cc -o hello-chars hello-chars.c\n",
    "./hello-chars\n",
    "rm hello-chars"
   ]
  },
  {
   "cell_type": "markdown",
   "id": "8b8273f7",
   "metadata": {},
   "source": [
    "\n",
    "### Checksums\n",
    "\n",
    "The ASCII chart is a 7 bit chart, yet it was clear that bytes would be larger, most likely 8 bits. This is because in that era data corruption was more likely than now, and the extra bit was used to detect errors that might occur in the communication of the character.\n",
    "\n",
    "\n",
    "#### Parity checksum\n",
    "\n",
    "This is called a checksum. The type of check sum was the parity. For an even parity checksum, the 8th bit is set to one if the number of ones in the other 7 bits is odd. If there were a single bit flip in the communication of the character, the parity would be off, and the receiver could signal a parity-error. Odd parity is defined the same however the 8th bit is set to make the total number of one's be odd.\n",
    "\n",
    "\n",
    "#### Luhn checksum\n",
    "\n",
    "Checksums are also found on creditcards. The Lund algorithm calculates the very last digit of a credit card number from the others. If someone mistypes their cardnumber it is likely that the checksum will find that there is an error. These are _error detecting codes_. They all have their limits as to the type and quantity of errors they can check.\n",
    "\n",
    "#### LC checksum\n",
    "\n",
    "Checksums are also found on the Library Of Congress ISBN numbers. It is the digit or ltter X that suffixed at the end of the number, after a dash.\n",
    "\n",
    "These days, parity for characters is used in this same way. \n"
   ]
  },
  {
   "cell_type": "code",
   "execution_count": 115,
   "id": "5a40e18c",
   "metadata": {},
   "outputs": [
    {
     "name": "stdout",
     "output_type": "stream",
     "text": [
      "Overwriting luhn-checksum.c\n"
     ]
    }
   ],
   "source": [
    "%%file luhn-checksum.c\n",
    "\n",
    "#include<stdio.h>\n",
    "#include<string.h>\n",
    "\n",
    "#define NOT_VALID \"not valid\"\n",
    "#define VALID \"valid\"\n",
    "\n",
    "int main(int argc, char * argv[]) {\n",
    "    char * s = argv[1] ;\n",
    "    int i, mult, d ;\n",
    "    int ck_sum = 0 ;\n",
    "    char * r ;\n",
    "    \n",
    "    for (i=0;i<strlen(s);i++) {\n",
    "        mult = (i%2)?1:2 ;\n",
    "        d = mult*(s[i]-'0') ;\n",
    "        d = (d>9)?(1+d%10):d ;\n",
    "        ck_sum += d ;\n",
    "    }\n",
    "    \n",
    "    r = (ck_sum%10)? NOT_VALID : VALID ;\n",
    "    printf(\"The credit card number %s is %s\\n\", s, r ) ;\n",
    "    return 0 ;\n",
    "}"
   ]
  },
  {
   "cell_type": "code",
   "execution_count": 116,
   "id": "712c4430",
   "metadata": {},
   "outputs": [
    {
     "name": "stdout",
     "output_type": "stream",
     "text": [
      "The credit card number 4417123456789113 is valid\n",
      "The credit card number 4417323456789113 is not valid\n",
      "The credit card number 4417123456989113 is not valid\n",
      "The credit card number 4417123465789113 is not valid\n"
     ]
    }
   ],
   "source": [
    "%%bash\n",
    "S=luhn-checksum\n",
    "cc -o $S $S.c\n",
    "./$S 4417123456789113\n",
    "./$S 4417323456789113\n",
    "./$S 4417123456989113\n",
    "./$S 4417123465789113\n",
    "rm $S"
   ]
  },
  {
   "cell_type": "markdown",
   "id": "27a97262",
   "metadata": {},
   "source": [
    "## "
   ]
  },
  {
   "cell_type": "code",
   "execution_count": 119,
   "id": "5610ff14",
   "metadata": {},
   "outputs": [
    {
     "name": "stdout",
     "output_type": "stream",
     "text": [
      "Overwriting ten-digit-lc.c\n"
     ]
    }
   ],
   "source": [
    "%%file ten-digit-lc.c\n",
    "\n",
    "#include<stdio.h>\n",
    "#include<string.h>\n",
    "\n",
    "#define NOT_VALID \"not valid\"\n",
    "#define VALID \"valid\"\n",
    "\n",
    "int main(int argc, char * argv[]) {\n",
    "    char * s = argv[1] ;\n",
    "    int i, d ;\n",
    "    int ck_sum = 0 ;\n",
    "    int mult = 10 ;\n",
    "    char * r ;\n",
    "    \n",
    "    for (i=0;i<strlen(s);i++) {\n",
    "        if (s[i]=='-') continue ;\n",
    "        d = s[i]-'0' ;\n",
    "        if (d>9) d = 10 ;\n",
    "        ck_sum += (mult--) * d ;\n",
    "    }\n",
    "    \n",
    "    r = (ck_sum%11)? NOT_VALID : VALID ;\n",
    "    ck_sum %= 11 ;\n",
    "    printf(\"The ISBN 10 number %s is %s\\n\", s, r ) ;\n",
    "    return 0 ;\n",
    "}"
   ]
  },
  {
   "cell_type": "code",
   "execution_count": 120,
   "id": "679c94c5",
   "metadata": {},
   "outputs": [
    {
     "name": "stdout",
     "output_type": "stream",
     "text": [
      "The ISBN 10 number 0-534-08072-3 is valid\n",
      "The ISBN 10 number 0-915144-76-X is valid\n",
      "The ISBN 10 number 0-8076-0453-4 is valid\n"
     ]
    }
   ],
   "source": [
    "%%bash\n",
    "S=ten-digit-lc\n",
    "cc -o $S $S.c\n",
    "./$S 0-534-08072-3\n",
    "./$S 0-915144-76-X\n",
    "./$S 0-8076-0453-4\n",
    "\n",
    "rm $S"
   ]
  },
  {
   "cell_type": "markdown",
   "id": "35bc31be",
   "metadata": {},
   "source": [
    "### UTF-8\n",
    "\n",
    "It is possible that the 8 bit byte was influenced by the need for a byte to signify one text character. At minimum this meant the 26 upper and 26 lower case letters and 10 digits, plus a bunch of common punctuation. There were also _control characters_, which are non-printing characters that are sent in the character stream such as,\n",
    "\n",
    "- The newline character, ASCII 0x0a, C Language `\\n` (sometimes shows up as a control-M) =,\n",
    "- The tab character, ASCII 0x09, C Language `\\t`,\n",
    "- The End of Transmission (EOT) character, ASCII 0x09, a.k.a. control-D.\n",
    "\n",
    "And many more fascinating details.\n",
    "\n",
    "This added up to enough to set the byte size to 8 bits, and to use only the lower 7 bits for the 128 lucky characters included in ASCII.\n",
    "\n",
    "__But what about other alphabets?__\n",
    "\n",
    "Soon the issue arose of representing an expanded collection of alphabets. A variety of systems were invented to accomodate these characters. \n",
    "\n",
    "One idea was to use the unused upper 128 code slots for these characters, and to have those slots defined according to a _code page_ that was set into the context.\n",
    "\n",
    "To get even greater space to accommodate languages with a very large number of characters, like Chinese, going to a 16-bit character, called a _wide character_ was used.\n",
    "\n",
    "The 16-bit solution lead to Unicode, a single space for every character for every language. When defining Unicode, the word _glyph_ is used for the character as printed. For instance, certain languages have two forms of a letter, depending if it ends a word or not. Each is a different glyph for what one might think of as the same character.\n",
    "\n",
    "#### Storing wide characters\n",
    "\n",
    "The question is how to store these character streams so that older 8 bit code is compatible with newere 16 bit codes, or perhaps codes of intermediate sizes. The answer appeared on a napkin in a New Jersey diner where Rob Pike and Ken Thompson were eating, and it became the standard UTF-8.\n",
    "\n",
    "The idea is that the number of bytes uses is variable according to the requirements of the encoding. The standard ASCII, should remain unchanged. Which means that other encodings could make use of setting the high order bit to 1, to signal that this is not a 1 byte code.\n",
    "\n",
    "If 11 bits of code space is needed, then 2 bytes are used in a sequence. Of the 16 bits available in 2 bytes, 5 of them are used to indicate that this is a two byte sequence. The first of the two uses the top 3 bits to indicate this is exactly a 2 byte sequence, and the byte following is the second in the sequence. The byte following uses the top 2 bits to mark that this byte is part of a sequence.\n",
    "\n",
    "The UTF-8 standard also has 3 and 4 byte sequences, so 16 bit and 21 bit code pages can be accommodated.\n",
    "\n",
    "- If the high order bit is 0, therefore it is a 1 byte ASCII code point.\n",
    "- If the top two bits of the byte are 0b10, then this is an additional byte for a multi-byte character.\n",
    "- If the top three bits of the byte are 0b110, then this is the first of a two byte sequence whose bits collectively define a 11 bit code point.\n",
    "- If the top four bits of the byte are 0b1110, then this is the first of a three byte sequence whose bits collectively define a 16 bit code point.\n",
    "- If thie top five bits of the byte are 0b11110, then this is the first of a four byte sequence whose bits collectively define a 21 bit code point.\n",
    "\n",
    "\n",
    "\n"
   ]
  },
  {
   "cell_type": "code",
   "execution_count": 170,
   "id": "35c4b8b9",
   "metadata": {},
   "outputs": [
    {
     "name": "stdout",
     "output_type": "stream",
     "text": [
      "Overwriting utf-8-convert.c\n"
     ]
    }
   ],
   "source": [
    "%%file utf-8-convert.c\n",
    "\n",
    "#include<stdio.h>\n",
    "#include<stdlib.h>\n",
    "\n",
    "char * short_to_utf8(char * out, short u) {\n",
    "    out[2] = 0x80 | (u & 0x3f) ;\n",
    "    u >>= 6 ;\n",
    "    out[1] = 0x80 | (u & 0x3f) ;\n",
    "    u >>= 6 ;\n",
    "    out[0] = 0xe0 | (u & 0x0f) ;\n",
    "    return out ;\n",
    "}\n",
    "\n",
    "\n",
    "short utf8_to_short(char * u) {\n",
    "    short r ;\n",
    "    r = u[2] & 0x3f ;\n",
    "    r |= (u[1] & 0x3f)<<6 ;\n",
    "    r |= (u[0] & 0x0f)<<12 ;\n",
    "    return r ;\n",
    "}\n",
    "\n",
    "int check_utf8(char * utf_buf) {\n",
    "\n",
    "    if (! (utf_buf[0]&0x80) ) \n",
    "        return 1 ;\n",
    "    \n",
    "    if ((utf_buf[0]&0xe0) == 0xc0) {\n",
    "        if ((utf_buf[1]&0xc0) == 0x80) return 2 ;\n",
    "    }\n",
    "    \n",
    "    if ((utf_buf[0]&0xf0)==0xe0) {\n",
    "        if (\n",
    "            ((utf_buf[1]&0xc0)==0x80) \n",
    "            && ((utf_buf[2]&0xc0)==0x80)\n",
    "        ) return 3 ;\n",
    "    }\n",
    "\n",
    "     if ((utf_buf[0]&0xf8)==0xf0) {\n",
    "        if (\n",
    "            ((utf_buf[1]&0xc0)==0x80) \n",
    "            && ((utf_buf[2]&0xc0)==0x80)\n",
    "            && ((utf_buf[3]&0xc0)==0x80)\n",
    "        ) return 4 ;\n",
    "    }\n",
    "    return 0 ;\n",
    "}\n",
    "\n",
    "int main(int argc, char * argv[]) {\n",
    "    short r = (short) atoi(argv[1]) ;\n",
    "    char utf_buf[3] ;\n",
    "    short r_r ;\n",
    "    short_to_utf8( utf_buf, r) ;\n",
    "    r_r = utf8_to_short( utf_buf ) ;\n",
    "    printf(\"0x%x: 0x[%x %x %x] 0x%x \\n\", r, \n",
    "           (unsigned char) utf_buf[0], (unsigned char) utf_buf[1], (unsigned char) utf_buf[2], \n",
    "           r_r ) ;\n",
    "    if (check_utf8(utf_buf)==3) printf(\"\\tEncoded with 3 bytes.\\n\") ;\n",
    "    return 0 ; \n",
    "}"
   ]
  },
  {
   "cell_type": "code",
   "execution_count": 171,
   "id": "b862ee6f",
   "metadata": {},
   "outputs": [
    {
     "name": "stdout",
     "output_type": "stream",
     "text": [
      "0x2000: 0x[e2 80 80] 0x2000 \n",
      "\tEncoded with 3 bytes.\n",
      "0x2210: 0x[e2 88 90] 0x2210 \n",
      "\tEncoded with 3 bytes.\n"
     ]
    }
   ],
   "source": [
    "%%bash\n",
    "S=utf-8-convert\n",
    "cc -o $S $S.c\n",
    "./$S 8192\n",
    "./$S 8720\n",
    "rm $S"
   ]
  },
  {
   "cell_type": "markdown",
   "id": "6af5f2df",
   "metadata": {},
   "source": [
    "### Strings"
   ]
  },
  {
   "cell_type": "markdown",
   "id": "a621e207",
   "metadata": {},
   "source": [
    "C strings are a data structure for the representation of a text string. The hello world program has already introduced this, with the program element `\"hello, world!\"`. We will go into detail about how strings work, and doing so will again explore how the RAM memory is organized. \n",
    "\n",
    "A C string represents a sequence of chars, and is therefore normally associated with text. To represent these, a starting location in memory is selected, and that and the following $n$ bytes are assigned for use by the string. The value $n$ is one more than the number of characters in the string to allow for a very important marker &dash; that of the end of the string.\n",
    "\n",
    "The computer, handling the string has to know two things,\n",
    "- where the string starts\n",
    "- where the string ends.\n",
    "There are several methods to do this, and the creators of C Language chose the one they thought the best.\n",
    "\n",
    "The method chosen has the string name be where the string starts, and the string itself will inform the computer where the string ends. A special value is selected from the space of char's and used as a marker value that says \"the string ends here\".\n",
    "\n",
    "- That marker value cannot be used as a data value. Its function as end marker overrides a possible function of a data element in the string.\n",
    "- The value should be easily recognized, because on each data fetch from the string a check must be made if this is the end of the string.\n",
    "\n",
    "The value chosen was the _null byte_, of value 0, and has character literal `\\0`. It had the virtue of not representing any character traditionally, and is easy to check, since ALU's have builtin circuitry for detecting the zero value.\n",
    "\n",
    "From paper tape, a stretch of unpunched tape is a stretch of all zeros. This was inherited down the years to make the null byte already somthing of a meta-character. It already represented the absence of data. \n",
    "\n",
    "C Language was designed to make use of the ALU's zero-checking capability by having its logical calculations distinguish zero from not zero in several instances.\n",
    "\n",
    "- For characters, the null byte is the end of string character, hence the end of string is a false value, whereas any character in the string is a true value.\n",
    "- For pointers, the null pointer is similarly an indication of no-pointer-at-all. "
   ]
  },
  {
   "cell_type": "code",
   "execution_count": 191,
   "id": "b746be70",
   "metadata": {},
   "outputs": [
    {
     "name": "stdout",
     "output_type": "stream",
     "text": [
      "Overwriting my-strlen.c\n"
     ]
    }
   ],
   "source": [
    "%%file my-strlen.c\n",
    "#include<stdio.h>\n",
    "\n",
    "int my_strlen(char * s) {\n",
    "    int i = 0 ;\n",
    "    while (*s) {\n",
    "        i++ ;\n",
    "        s++ ;\n",
    "    }\n",
    "    return i ;\n",
    "}\n",
    "int main(int argc, char * argv[]){\n",
    "    char * s = \"hello, world!\" ;\n",
    "    printf(\"the string \\\"%s\\\" has %d characters.\\n\", s, my_strlen(s)) ;\n",
    "    return 0 ;\n",
    "}"
   ]
  },
  {
   "cell_type": "code",
   "execution_count": 192,
   "id": "b1f610f9",
   "metadata": {},
   "outputs": [
    {
     "name": "stdout",
     "output_type": "stream",
     "text": [
      "the string \"hello, world!\" has 13 characters.\n"
     ]
    }
   ],
   "source": [
    "%%bash\n",
    "S=my-strlen\n",
    "cc -o $S $S.c\n",
    "./$S\n",
    "rm $S"
   ]
  },
  {
   "cell_type": "code",
   "execution_count": 54,
   "id": "3ba8bd54",
   "metadata": {},
   "outputs": [
    {
     "name": "stdout",
     "output_type": "stream",
     "text": [
      "Overwriting base64.c\n"
     ]
    }
   ],
   "source": [
    "%%file base64.c\n",
    "\n",
    "#include<stdio.h>\n",
    "\n",
    "// Many hands make light work. \n",
    "// TWFueSBoYW5kcyBtYWtlIGxpZ2h0IHdvcmsu\n",
    "\n",
    "char map_to_64(char c) {\n",
    "    if (c==63) return '/' ;\n",
    "    if (c==62) return '+' ;\n",
    "    if (c>=52) return (c-52+'0') ;\n",
    "    if (c>=26) return (c-26)+'a' ;\n",
    "    return c+'A' ;\n",
    "}\n",
    "\n",
    "void print_base_64(char * s) {\n",
    "    int r = 0 ;\n",
    "    char b ;\n",
    "    char b_n ;\n",
    "    int i = 0 ;\n",
    "    while(*s) {\n",
    "        switch (r) {\n",
    "            case 0:\n",
    "                b = (*s>>2)&0x3f ;\n",
    "                b_n = (*s<<4)&0x3f ;\n",
    "                break ;\n",
    "            case 1:\n",
    "                b = ((*s>>4)|b_n)&0x3f ;\n",
    "                b_n = (*s<<2)&0x3f ;\n",
    "                break ;\n",
    "            case 2: \n",
    "                b = ((*s>>6)|b_n)&0x3f ;\n",
    "                b_n = *s ;\n",
    "                break ;\n",
    "            case 3:\n",
    "                b = b_n&0x3f;\n",
    "        }\n",
    "        if (r!=3) s++ ;\n",
    "        r = (r+1)%4 ;\n",
    "        printf(\"%c\", map_to_64(b)) ;\n",
    "        i++ ;\n",
    "    }\n",
    "    if (r) {\n",
    "        printf(\"%c\", map_to_64(b_n&0x3f)) ;\n",
    "        i++ ;\n",
    "    }\n",
    "    while (i%4) {\n",
    "        printf(\"=\") ;\n",
    "        i++ ;\n",
    "    }\n",
    "    \n",
    "    return ;\n",
    "}\n",
    "\n",
    "int main(int argc, char * argv[]) {\n",
    "    char * to_convert = argv[1] ;\n",
    "    printf(\"input: %s\\noutput: \", to_convert) ;\n",
    "    print_base_64(to_convert) ;\n",
    "    printf(\"\\n\") ;\n",
    "    \n",
    "    return 0 ;\n",
    "}"
   ]
  },
  {
   "cell_type": "code",
   "execution_count": 55,
   "id": "c5815a16",
   "metadata": {},
   "outputs": [
    {
     "name": "stdout",
     "output_type": "stream",
     "text": [
      "input: Many hands make light work.\n",
      "output: TWFueSBoYW5kcyBtYWtlIGxpZ2h0IHdvcmsu\n",
      "input: light w\n",
      "output: bGlnaHQgdw==\n",
      "input: light wo\n",
      "output: bGlnaHQgd28=\n",
      "input: light wor\n",
      "output: bGlnaHQgd29y\n",
      "input: light work\n",
      "output: bGlnaHQgd29yaw==\n"
     ]
    }
   ],
   "source": [
    "src = \"base64\"\n",
    "!cc -o {src} {src}.c\n",
    "for input in ['\"Many hands make light work.\"', '\"light w\"', '\"light wo\"', '\"light wor\"',\n",
    "             '\"light work\"']:\n",
    "    !./{src} {input}"
   ]
  },
  {
   "cell_type": "code",
   "execution_count": null,
   "id": "20a30120",
   "metadata": {},
   "outputs": [],
   "source": []
  },
  {
   "cell_type": "code",
   "execution_count": null,
   "id": "a48fdd91",
   "metadata": {},
   "outputs": [],
   "source": []
  }
 ],
 "metadata": {
  "kernelspec": {
   "display_name": "Python 3 (ipykernel)",
   "language": "python",
   "name": "python3"
  },
  "language_info": {
   "codemirror_mode": {
    "name": "ipython",
    "version": 3
   },
   "file_extension": ".py",
   "mimetype": "text/x-python",
   "name": "python",
   "nbconvert_exporter": "python",
   "pygments_lexer": "ipython3",
   "version": "3.9.7"
  }
 },
 "nbformat": 4,
 "nbformat_minor": 5
}
