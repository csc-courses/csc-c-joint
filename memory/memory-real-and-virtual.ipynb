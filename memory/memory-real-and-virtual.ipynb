{
 "cells": [
  {
   "cell_type": "markdown",
   "id": "663116ae",
   "metadata": {},
   "source": [
    "## Memory: Real and Virtual\n",
    "\n",
    "\n",
    "_burton rosenberg, 29 june 2023_\n",
    "\n",
    "\n",
    "### Table of contents.\n",
    "\n",
    "1. <a href=\"#intro\">Introduction</a>\n",
    "1. <a href=\"#byte\">What is a byte?</a>\n",
    "1. <a href=\"#intrepr\">Representations of Integers</a>\n",
    "1. <a href=\"#intmem\">The memory layout of integers</a>\n"
   ]
  },
  {
   "cell_type": "markdown",
   "id": "68ac4a16",
   "metadata": {},
   "source": [
    "\n",
    "### <a name=intro>Introduction</a>\n",
    "\n",
    "\n",
    "For the purposes of this section, a computer consists of three elements,\n",
    "\n",
    "- A memory device, called the RAM\n",
    "- A control and computation device, called the CPU\n",
    "- A connection between the RAM and CPU called the bus.\n",
    "\n",
    "The CPU sends over the bus a request to the RAM to read or write a particular data item at a particular address. In a simplified model, the RAM is a collection of cells, each capable of storing a _byte_, and each cell as an integer index. The index is important in several ways,\n",
    "\n",
    "- It locates the byte.\n",
    "- Consecutive indices are useful in creating data items that are multiple bytes.\n",
    "- Access patterns such as indexing, are integer calculations on the indices.\n",
    "\n",
    "<div style=\"float:right;margin:2em;width:450px;border:1px solid green;padding:1em;\">\n",
    "<a title=\"MCS-80/85 Family User's Manual, Intel, October 1979\" href=\"https://archive.org/details/Mcs80_85FamilyUsersManual/\">\n",
    "<img width=\"512\" alt=\"Paper Tape Drive (31437412070)\" src=\"../images/databuses_8085.jpg\">\n",
    "<br>MCS-80/85 Family User's Manual, Intel, October 1979.\n",
    "</a>\n",
    "</div>\n",
    "\n",
    "\n",
    "A RAM as an integer indexed collection of bytes is mostly true for a simple computer, such as one based on the Intel 8085 CPU. Few CPU's are that simple today. The addresses seen by programmers are _virtual addresses_, which are not only a simple range of integers, multiple programs have their own space of addresses. A _physical address_ is assigned to each virtual address that merges all the virtual spaces into a physical space. \n",
    "\n",
    "We shall continue with the conceptualization of addresses as integers, as virtual addresses, which are closer to being physical addresses the simpler the CPU. Potential access to even this virtual space depends on the programming language. The focus of programming languages is to operate a meaningful data objects, such as integers, floating point numbbers and strings, and not raw bytes. \n",
    "\n",
    "Programming languages vary in how abstracted these objects are from their underlying construction. Ultimately, all data objects are built out of bytes. C language adopts a memory model which is abstract enough for most usual data objects to be used efficiently and platform independently, but can also treat the RAM memory in a raw manner as an array of bytes. \n",
    "\n",
    "A data location is given by a C type called a _pointer_. The pointer has integer like properties. It can be added to, allowing for the reference of a sequence of memory elements. Pointers can be compared for size in a way that is compatible with addition. On some platforms the pointer can be printed and will look like an integer expressed in hexidecimal notation.\n",
    "\n",
    "The pointers can be derived from variables, to give reference to those variables. The pointer is then typed by what it points to. \n",
    "\n",
    "Pointers however have types according to their purpose. A pointer to an integer addresses a sequence of bytes, the number of bytes according to the precision of the number. A typical integer is 32 bits, hence the pointer refers to 4 bytes.\n",
    "\n",
    "C language has defined the type `char` to be one byte. Hence a pointer to char provides our method to access the RAM natively. Operating systems are written in C language because of C language's ability to do this.\n",
    "\n",
    "### Pointer notation\n",
    "\n",
    "The notation for pointers is based on how the pointer will be used. The declaration of to integer, with name `p`, is `int *p`. This mean that the expression `*p` is of type `int`. The number of bytes in the data type `int` is returned by the C operator `sizeof`. This operator looks like a function call, but it is not a function, it is an operator. For 32 bit integers, `sizeof(int)` will return 4. Then `p+1` will return a location 4 larger than that of `p`. \n",
    "\n",
    "With `p` of type `int *`, so is `p+i` for integer `i`. Hence `*(p+i)` is type `int`. So this is retrieval or storage for the i-th element in a sequence of `int`'s, where the 0-th `int` is located at location `p`. C makes a more obvious notation for this as `a[i]`. So `a` is of type `int *`, as well as being an array.\n",
    "\n",
    "Pointer notation can seem difficult, but it is always a picture of how the data will be used. A common situation is to have an array of strings. A string is an array of bytes with a special end of string character in the last byte. If this array name is `a`, the `a[i]` should be a pointer to char. Hence `*(*(a+i)+j)` would be the j-th letter of the i-th string. Overall, `a` can be declared as either `char ** a` or `char * a[]`.\n",
    "\n",
    "\n"
   ]
  },
  {
   "cell_type": "code",
   "execution_count": null,
   "id": "ccf354b2",
   "metadata": {},
   "outputs": [],
   "source": []
  },
  {
   "cell_type": "code",
   "execution_count": 1,
   "id": "7a53a50e",
   "metadata": {},
   "outputs": [
    {
     "name": "stdout",
     "output_type": "stream",
     "text": [
      "Writing test.c\n"
     ]
    }
   ],
   "source": [
    "%%file test.c\n",
    "\n",
    "int main(int argc, char * argv[]) {\n",
    "    \n",
    "    return 0 ;\n",
    "}"
   ]
  },
  {
   "cell_type": "code",
   "execution_count": null,
   "id": "dd51dfbb",
   "metadata": {},
   "outputs": [],
   "source": []
  }
 ],
 "metadata": {
  "kernelspec": {
   "display_name": "Python 3 (ipykernel)",
   "language": "python",
   "name": "python3"
  },
  "language_info": {
   "codemirror_mode": {
    "name": "ipython",
    "version": 3
   },
   "file_extension": ".py",
   "mimetype": "text/x-python",
   "name": "python",
   "nbconvert_exporter": "python",
   "pygments_lexer": "ipython3",
   "version": "3.9.7"
  }
 },
 "nbformat": 4,
 "nbformat_minor": 5
}
