{
 "cells": [
  {
   "cell_type": "markdown",
   "id": "663116ae",
   "metadata": {},
   "source": [
    "## Memory: Real and Virtual\n",
    "\n",
    "\n",
    "_burton rosenberg, 29 june 2023_\n",
    "\n",
    "\n",
    "### Table of contents.\n",
    "\n",
    "1. <a href=\"#intro\">Introduction</a>\n",
    "1. <a href=\"#byte\">What is a byte?</a>\n",
    "1. <a href=\"#intrepr\">Representations of Integers</a>\n",
    "1. <a href=\"#intmem\">The memory layout of integers</a>\n"
   ]
  },
  {
   "cell_type": "markdown",
   "id": "68ac4a16",
   "metadata": {},
   "source": [
    "\n",
    "### <a name=intro>Introduction</a>\n",
    "\n",
    "\n",
    "For the purposes of this section, a computer consists of three elements,\n",
    "\n",
    "- A memory device, called the RAM\n",
    "- A control and computation device, called the CPU\n",
    "- A connection between the RAM and CPU called the bus.\n",
    "\n",
    "The CPU sends over the bus a request to the RAM to read or write a particular data item at a particular address. In a simplified model, the RAM is a collection of cells, each capable of storing a _byte_, and each cell as an integer index. The index is important in several ways,\n",
    "\n",
    "- It locates the byte.\n",
    "- Consecutive indices are useful in creating data items that are multiple bytes.\n",
    "- Access patterns such as indexing, are integer calculations on the indices.\n",
    "\n",
    "<div style=\"float:right;margin:2em;width:450px;border:1px solid green;padding:1em;\">\n",
    "<a title=\"MCS-80/85 Family User's Manual, Intel, October 1979\" href=\"https://archive.org/details/Mcs80_85FamilyUsersManual/\">\n",
    "<img width=\"512\" src=\"https://www.cs.miami.edu/home/burt/learning/csc421.241/images/databuses_8085.png\">\n",
    "<br>MCS-80/85 Family User's Manual, Intel, October 1979.\n",
    "</a>\n",
    "</div>\n",
    "\n",
    "\n",
    "A RAM as an integer indexed collection of bytes is mostly true for a simple computer, such as one based on the Intel 8085 CPU. Few CPU's are that simple today. The addresses seen by programmers are _virtual addresses_, which are not only a simple range of integers, multiple programs have their own space of addresses. A _physical address_ is assigned to each virtual address that merges all the virtual spaces into a physical space. \n",
    "\n",
    "##### Virtual Addresses\n",
    "\n",
    "In some cases called _logical address_, the virtual address can be found in the instructions that move data to and from the memory. It is an integer that addresses each byte, from the lowest at zero, up to some high number that depends on the architecture of the computer. For 32 bit machines, the largest byte number is $2^{32}-1$. For 64 bit machines it gets complicated, as their are costs associated with supporting so many addresses. An Intel machine supports $2^{48}$ addresses, some counting up from the bottom, and some counting down from the top.\n",
    "\n",
    "##### Physical Addresses\n",
    "\n",
    "These are the memory addresses as seen on the bus between the RAM and the CPU. They are likewise integers, and the span is determined by the number of address lines are implemented. The older 32 bit machines supported 32 bits; the newer 64 bit machines support a various number of lines, more than 32, but certainly never 64. I believe the largest specified for Intel is 52 bits. \n",
    "\n",
    "The number of lines here directly affect how my RAM can be installed in the machine. \n",
    "\n",
    "##### Memory Mapping Unit\n",
    "\n",
    "The connection between the Virtual and Physical addresses in modern CPU's, is accomplished through a hardware using located on the CPU called the MMU, Memory Management Unit. (I am happily renaming it the Memory Mapping Unit in order to emphasize one of its functions). \n",
    "\n",
    "A abstract but good viewpoint on this is that the virtual memory seeks a _backing store_ to actually carry out in the physical its demand that data be actually stored and retrieved at addresses. The \"best\" backing store is RAM, as it is fast and byte-addressable. \n",
    "\n",
    "\n",
    "### Programmer access to virtual memory\n",
    "\n",
    "Programming languages vary in how abstracted these objects are from their underlying construction. Ultimately, all data objects are built out of bytes. However, more advanced language such as Python and Java provide a memory model of \"objects\" and not bytes. Assembly language only passes through the memory model of the CPU, which are a RAM of bytes and various on-CPU registers. C language adopts a memory model which is abstract enough for most usual data objects to be used efficiently and platform independently, but can also treat the RAM memory in a raw manner as an array of bytes. \n",
    "\n",
    "For many types of data access, the C programmer need not concern themselves with how the memory works. An expression like `j = i + 1` gets data from somewhere, operates on it and puts it somewhere else, in some sort of \"data box\", one called  `i` and the other `j`. However, a more direct look at the memory, and one necessary for the full use of C language is provided by the C type called a _pointer_. \n",
    "\n",
    "A _pointer_ is a memory reference. It can be store in a variable of type pointer, and can be dereferenced in either the pattern of an R-value, which extracts the value from what the pointer references, or an L-value, which stores a value into what the pointer references. So far this is not different than a Java reference type, which in Java is any type not a primitive type.\n",
    "\n",
    "Hoever, the C pointer also has integer like properties. It can be added to, allowing for the reference of a sequence of memory elements. Pointers can be compared for size in a way that is compatible with addition. On some platforms the pointer can be printed and will look like an integer expressed in hexidecimal notation.\n",
    "\n",
    "With the exception of setting a pointer to zero, and thus creating the _null pointer_ that acts as the absence of anything referenced, it is not generally done to set a pointer to an integer. Such an act would give us the try array-of-bytes model for memory, but for many reasons, pointers are created from variables, but getting the address of that variable, whatever that number might be.\n",
    "\n",
    "Pointers are also different from memory address in that a pointer is typed. It is a pointer to something, and has the type of point to that type.  A pointer to an integer is a pointer to an integer, and its use will store and load integers. \n",
    "\n",
    "C language has defined the type `char` to be one byte. Hence a pointer to char provides something very close to a viewpoint of raw virtual memory access. \n",
    "\n",
    "### Pointer notation\n",
    "\n",
    "The notation for pointers is based on how the pointer will be used. The declaration of to integer, with name `p`, is `int *p`. This mean that the expression `*p` is of type `int`. The number of bytes in the data type `int` is returned by the C operator `sizeof`. This operator looks like a function call, but it is not a function, it is an operator. For 32 bit integers, `sizeof(int)` will return 4. Then `p+1` will return a location 4 larger than that of `p`. \n",
    "\n",
    "With `p` of type `int *`, so is `p+i` for integer `i`. Hence `*(p+i)` is type `int`. So this is retrieval or storage for the i-th element in a sequence of `int`'s, where the 0-th `int` is located at location `p`. C makes a more obvious notation for this as `a[i]`. So `a` is of type `int *`, as well as being an array.\n",
    "\n",
    "Pointer notation can seem difficult, but it is always a picture of how the data will be used. A common situation is to have an array of strings. A string is an array of bytes with a special end of string character in the last byte. If this array name is `a`, the `a[i]` should be a pointer to char. Hence `*(*(a+i)+j)` would be the j-th letter of the i-th string. Overall, `a` can be declared as either `char ** a` or `char * a[]`.\n",
    "\n",
    "\n"
   ]
  },
  {
   "cell_type": "code",
   "execution_count": null,
   "id": "ccf354b2",
   "metadata": {},
   "outputs": [],
   "source": []
  },
  {
   "cell_type": "code",
   "execution_count": 1,
   "id": "7a53a50e",
   "metadata": {},
   "outputs": [
    {
     "name": "stdout",
     "output_type": "stream",
     "text": [
      "Writing test.c\n"
     ]
    }
   ],
   "source": [
    "%%file test.c\n",
    "\n",
    "int main(int argc, char * argv[]) {\n",
    "    \n",
    "    return 0 ;\n",
    "}"
   ]
  },
  {
   "cell_type": "code",
   "execution_count": null,
   "id": "dd51dfbb",
   "metadata": {},
   "outputs": [],
   "source": []
  }
 ],
 "metadata": {
  "kernelspec": {
   "display_name": "Python 3 (ipykernel)",
   "language": "python",
   "name": "python3"
  },
  "language_info": {
   "codemirror_mode": {
    "name": "ipython",
    "version": 3
   },
   "file_extension": ".py",
   "mimetype": "text/x-python",
   "name": "python",
   "nbconvert_exporter": "python",
   "pygments_lexer": "ipython3",
   "version": "3.9.7"
  }
 },
 "nbformat": 4,
 "nbformat_minor": 5
}
