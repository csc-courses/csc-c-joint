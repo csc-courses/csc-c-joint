{
 "cells": [
  {
   "cell_type": "markdown",
   "id": "d947cd52",
   "metadata": {},
   "source": [
    "to convert floating point, the idea is that it is about two types of rationals, those that are \n",
    "\n",
    "$$\n",
    "i/2^k\n",
    "$$\n",
    "and\n",
    "$$\n",
    "j/10^k\n",
    "$$\n",
    "with $i$ and $j$ integers.\n",
    "\n",
    "When given a picture such as .123, that can be immediately written as $j=123$ and $k=3$.\n",
    "To convert to a denominator with only 2's, multiply $j$ by two constantly subtracting off \n",
    "amounts that look like $r/2^s$. Eventually what is left is $0/5^k$ which is dropped.\n",
    "\n",
    "In the other direction, it looks like just multiply top and bottom by $5^k$. \n"
   ]
  },
  {
   "cell_type": "markdown",
   "id": "1626a7ea",
   "metadata": {},
   "source": [
    "we need words for things.\n",
    "\n",
    "a binary fraction is an integer over a power of 2, a decimal fraction is an integer over a power of 10\n",
    "\n",
    "mostly we deal with corresponding these two integers. \n",
    "\n",
    "the result requires an explicit precision, which gives the mantissa as the integer in the representation with\n",
    "the appropriate amount of leading zeros. \n",
    "\n"
   ]
  },
  {
   "cell_type": "code",
   "execution_count": 43,
   "id": "d747cbf6",
   "metadata": {},
   "outputs": [
    {
     "name": "stdout",
     "output_type": "stream",
     "text": [
      "5/10 = 32768/65536 = 0.5, binary bits = 0b1000000000000000\n",
      "5000000000000000/10000000000000000 = 0.5\n"
     ]
    }
   ],
   "source": [
    "n_d = 5\n",
    "d_d = 1\n",
    "n_b = 0\n",
    "d_b = 16\n",
    "\n",
    "denom = 10**d_d\n",
    "\n",
    "\n",
    "r = n_d\n",
    "for i in range(d_b):\n",
    "    t = r*2 \n",
    "    bit = 0\n",
    "    if t>=denom:\n",
    "        bit = 1\n",
    "        t = t - denom\n",
    "    r = t\n",
    "    n_b = 2*n_b+bit\n",
    "\n",
    "print(f\"{n_d}/{10**d_d} = {n_b}/{2**d_b} = {n_b/2**d_b}, binary bits = {bin(n_b)}\")   \n",
    "\n",
    "n_d2 = n_b*5**d_b\n",
    "print(f\"{n_d2}/{10**d_b} = {n_d2/10**d_b}\")"
   ]
  },
  {
   "cell_type": "code",
   "execution_count": 39,
   "id": "943e174c",
   "metadata": {},
   "outputs": [
    {
     "data": {
      "text/plain": [
       "0.12"
      ]
     },
     "execution_count": 39,
     "metadata": {},
     "output_type": "execute_result"
    }
   ],
   "source": [
    "12/100\n"
   ]
  },
  {
   "cell_type": "code",
   "execution_count": null,
   "id": "9c77ecd9",
   "metadata": {},
   "outputs": [],
   "source": []
  }
 ],
 "metadata": {
  "kernelspec": {
   "display_name": "Python 3 (ipykernel)",
   "language": "python",
   "name": "python3"
  },
  "language_info": {
   "codemirror_mode": {
    "name": "ipython",
    "version": 3
   },
   "file_extension": ".py",
   "mimetype": "text/x-python",
   "name": "python",
   "nbconvert_exporter": "python",
   "pygments_lexer": "ipython3",
   "version": "3.9.7"
  }
 },
 "nbformat": 4,
 "nbformat_minor": 5
}
